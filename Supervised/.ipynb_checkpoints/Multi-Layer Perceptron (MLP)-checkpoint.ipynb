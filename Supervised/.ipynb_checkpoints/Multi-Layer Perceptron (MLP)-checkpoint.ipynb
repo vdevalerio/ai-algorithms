{
 "cells": [
  {
   "cell_type": "markdown",
   "id": "f860f01a",
   "metadata": {},
   "source": [
    "# Multi-Layer Perceptron (MLP)\n",
    "\n",
    "## O Multi-layer Perceptron (MLP) é um tipo de rede neural artificial que consiste em pelo menos três camadas de nós: uma camada de entrada, uma ou mais camadas ocultas e uma camada de saída. Cada nó, ou neurônio, em uma camada é conectado a cada nó nas camadas seguinte e anterior. O MLP é um modelo de aprendizado supervisionado usado para classificação e regressão."
   ]
  },
  {
   "cell_type": "markdown",
   "id": "a2e8aea1",
   "metadata": {},
   "source": [
    "## Como funciona\n",
    "* Camadas e Neurônios: Em um MLP, cada neurônio em uma camada está conectado a todos os neurônios da próxima camada, formando uma rede densamente conectada.\n",
    "\n",
    "* Propagação para Frente (Forward Propagation): Quando dados de entrada são fornecidos, eles são processados em cada camada, começando pela camada de entrada, passando pelas camadas ocultas e finalmente chegando à camada de saída. A saída de cada neurônio é determinada por uma função de ativação.\n",
    "\n",
    "* Função de Ativação: Funções comuns de ativação incluem a sigmóide, tanh e ReLU. Estas funções introduzem não-linearidades no modelo, permitindo que ele aprenda padrões complexos.\n",
    "\n",
    "* Backpropagation e Otimização: O modelo aprende ajustando os pesos dos neurônios através de um processo chamado backpropagation. Este processo utiliza um algoritmo de otimização (como o gradiente descendente) para minimizar a função de perda (como a entropia cruzada para classificação ou o erro quadrático médio para regressão)."
   ]
  },
  {
   "cell_type": "markdown",
   "id": "aea21e77",
   "metadata": {},
   "source": [
    "### Vantagens\n",
    "* Capacidade de Aprender Padrões Complexos: MLPs podem aprender padrões complexos e não-lineares devido às suas múltiplas camadas e funções de ativação não-lineares.\n",
    "* Flexibilidade: Pode ser aplicado a uma ampla gama de problemas de aprendizado de máquina, tanto para classificação quanto para regressão.\n",
    "* Generalização: Com ajustes adequados e prevenção de sobreajuste, MLPs podem generalizar bem para novos dados."
   ]
  },
  {
   "cell_type": "markdown",
   "id": "8d6ed615",
   "metadata": {},
   "source": [
    "### Desvantagens\n",
    "* Suscetível a Sobreajuste: Especialmente em redes com muitas camadas/neurônios ou em datasets pequenos.\n",
    "* Custoso Computacionalmente: MLPs com muitas camadas e neurônios podem ser computacionalmente intensivos para treinar.\n",
    "* Difícil de Interpretar: A natureza \"caixa preta\" das redes neurais torna difícil entender como as previsões são feitas."
   ]
  },
  {
   "cell_type": "markdown",
   "id": "269f4f46",
   "metadata": {},
   "source": [
    "### Aplicações\n",
    "#### Classificação de Imagens:\n",
    "* Reconhecimento de Objetos em Imagens.\n",
    "* Classificação de Cenas e Paisagens.\n",
    "\n",
    "#### Processamento de Linguagem Natural (NLP):\n",
    "* Análise de Sentimento em Comentários e Textos.\n",
    "* Classificação de Documentos Textuais.\n",
    "\n",
    "#### Sistemas de Recomendação:\n",
    "* Recomendação Personalizada de Produtos em Plataformas de E-Commerce.\n",
    "* Sugestões de Conteúdo em Serviços de Streaming.\n",
    "\n",
    "#### Previsão Financeira:\n",
    "* Previsão de Preços de Ações e Mercado Financeiro.\n",
    "* Modelagem de Séries Temporais para Previsão de Tendências.\n",
    "\n",
    "#### Saúde:\n",
    "* Diagnóstico Médico com Base em Dados Clínicos e Imagens Médicas.\n",
    "* Predição de Resultados de Tratamentos e Prognósticos."
   ]
  },
  {
   "cell_type": "markdown",
   "id": "e1ccf461",
   "metadata": {},
   "source": [
    "#### Exemplo de Código com MLP"
   ]
  },
  {
   "cell_type": "code",
   "execution_count": 2,
   "id": "769e961b",
   "metadata": {},
   "outputs": [],
   "source": [
    "from sklearn.datasets import fetch_openml\n",
    "from sklearn.neural_network import MLPClassifier\n",
    "from sklearn.model_selection import train_test_split\n",
    "from sklearn.metrics import classification_report, confusion_matrix\n",
    "from sklearn.preprocessing import StandardScaler"
   ]
  },
  {
   "cell_type": "code",
   "execution_count": 3,
   "id": "b3ee66f6",
   "metadata": {},
   "outputs": [
    {
     "name": "stderr",
     "output_type": "stream",
     "text": [
      "/usr/lib/python3.11/site-packages/sklearn/datasets/_openml.py:1022: FutureWarning: The default value of `parser` will change from `'liac-arff'` to `'auto'` in 1.4. You can set `parser='auto'` to silence this warning. Therefore, an `ImportError` will be raised from 1.4 if the dataset is dense and pandas is not installed. Note that the pandas parser may return different data types. See the Notes Section in fetch_openml's API doc for details.\n",
      "  warn(\n"
     ]
    }
   ],
   "source": [
    "# Carregando o dataset MNIST\n",
    "mnist = fetch_openml('mnist_784')\n",
    "X = mnist.data / 255.0  # Normalizando os dados\n",
    "y = mnist.target"
   ]
  },
  {
   "cell_type": "code",
   "execution_count": 4,
   "id": "af504a21",
   "metadata": {},
   "outputs": [],
   "source": [
    "X_train, X_test, y_train, y_test = train_test_split(X, y, test_size=0.2, random_state=42)"
   ]
  },
  {
   "cell_type": "code",
   "execution_count": 5,
   "id": "b28cf89d",
   "metadata": {},
   "outputs": [],
   "source": [
    "# Pré-processamento: Normalizando os dados\n",
    "scaler = StandardScaler()\n",
    "X_train_scaled = scaler.fit_transform(X_train)\n",
    "X_test_scaled = scaler.transform(X_test)"
   ]
  },
  {
   "cell_type": "code",
   "execution_count": 6,
   "id": "c53059ef",
   "metadata": {},
   "outputs": [
    {
     "name": "stdout",
     "output_type": "stream",
     "text": [
      "Iteration 1, loss = 0.30649397\n",
      "Iteration 2, loss = 0.21912633\n",
      "Iteration 3, loss = 0.27769097\n",
      "Iteration 4, loss = 0.24003118\n",
      "Iteration 5, loss = 0.24967075\n",
      "Iteration 6, loss = 0.24778287\n",
      "Iteration 7, loss = 0.40605327\n",
      "Iteration 8, loss = 0.39488392\n",
      "Iteration 9, loss = 0.44947172\n",
      "Iteration 10, loss = 0.39242318\n",
      "Iteration 11, loss = 0.28861077\n",
      "Iteration 12, loss = 0.27136382\n",
      "Iteration 13, loss = 0.27363988\n",
      "Training loss did not improve more than tol=0.000100 for 10 consecutive epochs. Stopping.\n"
     ]
    },
    {
     "data": {
      "text/html": [
       "<style>#sk-container-id-1 {color: black;}#sk-container-id-1 pre{padding: 0;}#sk-container-id-1 div.sk-toggleable {background-color: white;}#sk-container-id-1 label.sk-toggleable__label {cursor: pointer;display: block;width: 100%;margin-bottom: 0;padding: 0.3em;box-sizing: border-box;text-align: center;}#sk-container-id-1 label.sk-toggleable__label-arrow:before {content: \"▸\";float: left;margin-right: 0.25em;color: #696969;}#sk-container-id-1 label.sk-toggleable__label-arrow:hover:before {color: black;}#sk-container-id-1 div.sk-estimator:hover label.sk-toggleable__label-arrow:before {color: black;}#sk-container-id-1 div.sk-toggleable__content {max-height: 0;max-width: 0;overflow: hidden;text-align: left;background-color: #f0f8ff;}#sk-container-id-1 div.sk-toggleable__content pre {margin: 0.2em;color: black;border-radius: 0.25em;background-color: #f0f8ff;}#sk-container-id-1 input.sk-toggleable__control:checked~div.sk-toggleable__content {max-height: 200px;max-width: 100%;overflow: auto;}#sk-container-id-1 input.sk-toggleable__control:checked~label.sk-toggleable__label-arrow:before {content: \"▾\";}#sk-container-id-1 div.sk-estimator input.sk-toggleable__control:checked~label.sk-toggleable__label {background-color: #d4ebff;}#sk-container-id-1 div.sk-label input.sk-toggleable__control:checked~label.sk-toggleable__label {background-color: #d4ebff;}#sk-container-id-1 input.sk-hidden--visually {border: 0;clip: rect(1px 1px 1px 1px);clip: rect(1px, 1px, 1px, 1px);height: 1px;margin: -1px;overflow: hidden;padding: 0;position: absolute;width: 1px;}#sk-container-id-1 div.sk-estimator {font-family: monospace;background-color: #f0f8ff;border: 1px dotted black;border-radius: 0.25em;box-sizing: border-box;margin-bottom: 0.5em;}#sk-container-id-1 div.sk-estimator:hover {background-color: #d4ebff;}#sk-container-id-1 div.sk-parallel-item::after {content: \"\";width: 100%;border-bottom: 1px solid gray;flex-grow: 1;}#sk-container-id-1 div.sk-label:hover label.sk-toggleable__label {background-color: #d4ebff;}#sk-container-id-1 div.sk-serial::before {content: \"\";position: absolute;border-left: 1px solid gray;box-sizing: border-box;top: 0;bottom: 0;left: 50%;z-index: 0;}#sk-container-id-1 div.sk-serial {display: flex;flex-direction: column;align-items: center;background-color: white;padding-right: 0.2em;padding-left: 0.2em;position: relative;}#sk-container-id-1 div.sk-item {position: relative;z-index: 1;}#sk-container-id-1 div.sk-parallel {display: flex;align-items: stretch;justify-content: center;background-color: white;position: relative;}#sk-container-id-1 div.sk-item::before, #sk-container-id-1 div.sk-parallel-item::before {content: \"\";position: absolute;border-left: 1px solid gray;box-sizing: border-box;top: 0;bottom: 0;left: 50%;z-index: -1;}#sk-container-id-1 div.sk-parallel-item {display: flex;flex-direction: column;z-index: 1;position: relative;background-color: white;}#sk-container-id-1 div.sk-parallel-item:first-child::after {align-self: flex-end;width: 50%;}#sk-container-id-1 div.sk-parallel-item:last-child::after {align-self: flex-start;width: 50%;}#sk-container-id-1 div.sk-parallel-item:only-child::after {width: 0;}#sk-container-id-1 div.sk-dashed-wrapped {border: 1px dashed gray;margin: 0 0.4em 0.5em 0.4em;box-sizing: border-box;padding-bottom: 0.4em;background-color: white;}#sk-container-id-1 div.sk-label label {font-family: monospace;font-weight: bold;display: inline-block;line-height: 1.2em;}#sk-container-id-1 div.sk-label-container {text-align: center;}#sk-container-id-1 div.sk-container {/* jupyter's `normalize.less` sets `[hidden] { display: none; }` but bootstrap.min.css set `[hidden] { display: none !important; }` so we also need the `!important` here to be able to override the default hidden behavior on the sphinx rendered scikit-learn.org. See: https://github.com/scikit-learn/scikit-learn/issues/21755 */display: inline-block !important;position: relative;}#sk-container-id-1 div.sk-text-repr-fallback {display: none;}</style><div id=\"sk-container-id-1\" class=\"sk-top-container\"><div class=\"sk-text-repr-fallback\"><pre>MLPClassifier(hidden_layer_sizes=(50,), learning_rate_init=0.1, max_iter=20,\n",
       "              random_state=1, solver=&#x27;sgd&#x27;, verbose=10)</pre><b>In a Jupyter environment, please rerun this cell to show the HTML representation or trust the notebook. <br />On GitHub, the HTML representation is unable to render, please try loading this page with nbviewer.org.</b></div><div class=\"sk-container\" hidden><div class=\"sk-item\"><div class=\"sk-estimator sk-toggleable\"><input class=\"sk-toggleable__control sk-hidden--visually\" id=\"sk-estimator-id-1\" type=\"checkbox\" checked><label for=\"sk-estimator-id-1\" class=\"sk-toggleable__label sk-toggleable__label-arrow\">MLPClassifier</label><div class=\"sk-toggleable__content\"><pre>MLPClassifier(hidden_layer_sizes=(50,), learning_rate_init=0.1, max_iter=20,\n",
       "              random_state=1, solver=&#x27;sgd&#x27;, verbose=10)</pre></div></div></div></div></div>"
      ],
      "text/plain": [
       "MLPClassifier(hidden_layer_sizes=(50,), learning_rate_init=0.1, max_iter=20,\n",
       "              random_state=1, solver='sgd', verbose=10)"
      ]
     },
     "execution_count": 6,
     "metadata": {},
     "output_type": "execute_result"
    }
   ],
   "source": [
    "# Criando e treinando o modelo MLP\n",
    "mlp = MLPClassifier(hidden_layer_sizes=(50,), max_iter=20, alpha=1e-4,\n",
    "                    solver='sgd', verbose=10, random_state=1,\n",
    "                    learning_rate_init=.1)\n",
    "mlp.fit(X_train_scaled, y_train)"
   ]
  },
  {
   "cell_type": "code",
   "execution_count": 7,
   "id": "ce3b2a2d",
   "metadata": {},
   "outputs": [],
   "source": [
    "# Avaliando o modelo\n",
    "y_pred = mlp.predict(X_test_scaled)\n",
    "conf_matrix = confusion_matrix(y_test, y_pred)\n",
    "report = classification_report(y_test, y_pred)"
   ]
  },
  {
   "cell_type": "code",
   "execution_count": 8,
   "id": "ebc7782f",
   "metadata": {},
   "outputs": [
    {
     "name": "stdout",
     "output_type": "stream",
     "text": [
      "Matriz de Confusão:\n",
      "[[1292    2    3    0    0    3   24    4   11    4]\n",
      " [   0 1566    4    6    3    0    1    8   10    2]\n",
      " [   4    4 1288   20    5    3   15   18   17    6]\n",
      " [   0    7   10 1371    1   14    2   10    8   10]\n",
      " [   2    2    7    0 1221    3    8    7    5   40]\n",
      " [   2    2    1   36    3 1169   26    2   30    2]\n",
      " [   2    3    3    1    4    3 1369    2    8    1]\n",
      " [   5    2   19   16    8    4    0 1403    7   39]\n",
      " [   1    8   11   18    5   10   13    7 1269   15]\n",
      " [   3    1    1    6   36    7    1   18   12 1335]]\n",
      "\n",
      "Relatório de Classificação:\n",
      "              precision    recall  f1-score   support\n",
      "\n",
      "           0       0.99      0.96      0.97      1343\n",
      "           1       0.98      0.98      0.98      1600\n",
      "           2       0.96      0.93      0.94      1380\n",
      "           3       0.93      0.96      0.94      1433\n",
      "           4       0.95      0.94      0.95      1295\n",
      "           5       0.96      0.92      0.94      1273\n",
      "           6       0.94      0.98      0.96      1396\n",
      "           7       0.95      0.93      0.94      1503\n",
      "           8       0.92      0.94      0.93      1357\n",
      "           9       0.92      0.94      0.93      1420\n",
      "\n",
      "    accuracy                           0.95     14000\n",
      "   macro avg       0.95      0.95      0.95     14000\n",
      "weighted avg       0.95      0.95      0.95     14000\n",
      "\n"
     ]
    }
   ],
   "source": [
    "print(\"Matriz de Confusão:\")\n",
    "print(conf_matrix)\n",
    "print(\"\\nRelatório de Classificação:\")\n",
    "print(report)"
   ]
  },
  {
   "cell_type": "code",
   "execution_count": null,
   "id": "95f5455f",
   "metadata": {},
   "outputs": [],
   "source": []
  }
 ],
 "metadata": {
  "kernelspec": {
   "display_name": "Python 3 (ipykernel)",
   "language": "python",
   "name": "python3"
  },
  "language_info": {
   "codemirror_mode": {
    "name": "ipython",
    "version": 3
   },
   "file_extension": ".py",
   "mimetype": "text/x-python",
   "name": "python",
   "nbconvert_exporter": "python",
   "pygments_lexer": "ipython3",
   "version": "3.11.6"
  }
 },
 "nbformat": 4,
 "nbformat_minor": 5
}
