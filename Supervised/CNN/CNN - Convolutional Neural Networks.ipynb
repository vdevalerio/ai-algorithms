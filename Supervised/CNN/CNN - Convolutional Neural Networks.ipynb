{
 "cells": [
  {
   "cell_type": "markdown",
   "id": "aa97bb03",
   "metadata": {},
   "source": [
    "# Redes Neurais Convolucionais (Convolutional Neural Networks - CNN)\n",
    "### Redes Neurais Convolucionais (CNNs) são um tipo de rede neural profunda projetada para processar dados que têm uma grade-like topology, como imagens (que podem ser vistas como uma grade de pixels). As CNNs são fundamentais no campo do processamento de imagens e visão computacional."
   ]
  },
  {
   "cell_type": "markdown",
   "id": "04870c68",
   "metadata": {},
   "source": [
    "## Como funciona\n",
    "* Camadas Convolucionais: Estas camadas aplicam um número de filtros à imagem de entrada para criar um mapa de características. Estes filtros ajudam a CNN a identificar padrões, como bordas, texturas, ou formas complexas.\n",
    "\n",
    "* Função de Ativação: Geralmente, após cada operação de convolução, uma função de ativação (como ReLU) é aplicada para introduzir não-linearidades no modelo, permitindo-lhe aprender padrões mais complexos.\n",
    "\n",
    "* Pooling: As camadas de pooling são usadas para reduzir as dimensões espaciais (largura e altura) do mapa de características, ajudando a diminuir a quantidade de parâmetros e cálculos na rede.\n",
    "\n",
    "* Camadas Densas (Fully Connected Layers): Após várias camadas convolucionais e de pooling, a rede utiliza camadas densas onde cada entrada está conectada a cada saída. Estas camadas são usadas para classificar os recursos extraídos pelas camadas convolucionais e de pooling em categorias.\n",
    "\n",
    "* Output: A última camada densa utiliza uma função de ativação como softmax (para classificação multiclasse) para produzir as probabilidades de cada classe."
   ]
  },
  {
   "cell_type": "markdown",
   "id": "22977beb",
   "metadata": {},
   "source": [
    "![image.png](cnn.png)"
   ]
  },
  {
   "cell_type": "markdown",
   "id": "a351fee5",
   "metadata": {},
   "source": [
    "### Vantagens\n",
    "* Eficiência no Processamento de Imagens: As CNNs podem capturar automaticamente e aprender características importantes das imagens, o que as torna extremamente eficientes para tarefas de processamento de imagens e visão computacional.\n",
    "\n",
    "* Requer Menos Pré-processamento: Ao contrário de outros algoritmos de classificação, as CNNs não exigem tanto pré-processamento dos dados. Elas são capazes de aprender os filtros e características por conta própria.\n",
    "\n",
    "* Robustez a Variações Espaciais: As CNNs são robustas a variações e distorções espaciais nas imagens, como rotação ou escala."
   ]
  },
  {
   "cell_type": "markdown",
   "id": "fd09ca28",
   "metadata": {},
   "source": [
    "### Desvantagens\n",
    "* Grande Quantidade de Dados Necessária: Para que as CNNs aprendam eficientemente, uma grande quantidade de dados de treinamento é geralmente necessária.\n",
    "\n",
    "* Complexidade Computacional: As CNNs podem ser bastante complexas e exigir um poder computacional significativo, especialmente para tarefas mais complexas.\n",
    "\n",
    "* Risco de Sobreajuste: Em datasets menores, as CNNs correm o risco de sobreajustar os dados de treinamento."
   ]
  },
  {
   "cell_type": "markdown",
   "id": "1d227cde",
   "metadata": {},
   "source": [
    "## Aplicações\n",
    "### Reconhecimento de Imagens:\n",
    "* Identificação de Objetos: CNNs são amplamente usadas em sistemas de reconhecimento de objetos para detectar e classificar objetos em imagens.\n",
    "        Reconhecimento Facial: Aplicações como autenticação biométrica e marcação de pessoas em fotos.\n",
    "\n",
    "### Segmentação de Imagens:\n",
    "* Segmentação Semântica: Divisão de uma imagem em regiões semânticas, atribuindo rótulos a cada região.\n",
    "* Segmentação de Instância: Identificação e rotulação de objetos individuais em uma imagem.\n",
    "\n",
    "### Classificação de Imagens Médicas:\n",
    "* Diagnóstico de Doenças: Identificação de padrões em imagens médicas para auxiliar no diagnóstico de condições como câncer.\n",
    "\n",
    "### Reconhecimento de Vídeos:\n",
    "* Análise de Vídeos: Rastreamento de objetos em sequências de vídeo, identificação de atividades, etc.\n",
    "\n",
    "### Geração de Imagens:\n",
    "* GANs (Redes Generativas Adversariais): CNNs são usadas em GANs para gerar imagens realistas.\n",
    "\n",
    "### Veículos Autônomos:\n",
    "* Percepção de Ambiente: CNNs são cruciais para sistemas de veículos autônomos, ajudando na detecção de pedestres, veículos, sinais de trânsito, etc.\n",
    "\n",
    "### Análise de Sentimentos em Imagens:\n",
    "* Classificação de Expressões Faciais: Identificação de emoções em rostos humanos em imagens.\n",
    "\n",
    "### Reconhecimento de Texto em Imagens:\n",
    "* OCR (Optical Character Recognition): Extrair texto de imagens para converter em texto editável.\n",
    "\n",
    "### Filtros de Imagens:\n",
    "* Aplicações Criativas: CNNs são usadas em aplicativos de edição de imagens para aplicar filtros, reconhecimento de estilo artístico, etc.\n",
    "\n",
    "### Detecção de Anomalias:\n",
    "\n",
    "* Identificação de Padrões Anômalos: CNNs são usadas para detectar anomalias em imagens, útil em inspeções industriais, por exemplo."
   ]
  },
  {
   "cell_type": "markdown",
   "id": "6ba3a4db",
   "metadata": {},
   "source": [
    "#### Exemplo de código com CNN"
   ]
  },
  {
   "cell_type": "code",
   "execution_count": 1,
   "id": "38d20d7b",
   "metadata": {},
   "outputs": [
    {
     "name": "stderr",
     "output_type": "stream",
     "text": [
      "2023-12-06 15:05:13.688883: I tensorflow/core/platform/cpu_feature_guard.cc:182] This TensorFlow binary is optimized to use available CPU instructions in performance-critical operations.\n",
      "To enable the following instructions: SSE3 SSE4.1 SSE4.2 AVX AVX2 FMA, in other operations, rebuild TensorFlow with the appropriate compiler flags.\n"
     ]
    }
   ],
   "source": [
    "import matplotlib.pyplot as plt\n",
    "from keras.datasets import mnist\n",
    "from keras.models import Sequential\n",
    "from keras.layers import Conv2D, MaxPooling2D, Flatten, Dense\n",
    "from keras.utils import to_categorical"
   ]
  },
  {
   "cell_type": "code",
   "execution_count": 2,
   "id": "62a139f8",
   "metadata": {},
   "outputs": [],
   "source": [
    "# Load MNIST dataset\n",
    "(X_train, y_train), (X_test, y_test) = mnist.load_data()\n"
   ]
  },
  {
   "cell_type": "code",
   "execution_count": 3,
   "id": "2894ca9b",
   "metadata": {},
   "outputs": [],
   "source": [
    "# Normalize pixel values to be between 0 and 1\n",
    "X_train = X_train.astype('float32') / 255.0\n",
    "X_test = X_test.astype('float32') / 255.0"
   ]
  },
  {
   "cell_type": "code",
   "execution_count": 4,
   "id": "e5ee4beb",
   "metadata": {},
   "outputs": [],
   "source": [
    "# Reshape data for CNN (add a channel dimension)\n",
    "X_train = X_train.reshape(X_train.shape[0], 28, 28, 1)\n",
    "X_test = X_test.reshape(X_test.shape[0], 28, 28, 1)"
   ]
  },
  {
   "cell_type": "code",
   "execution_count": 5,
   "id": "21d05b86",
   "metadata": {},
   "outputs": [],
   "source": [
    "# One-hot encode the labels\n",
    "y_train = to_categorical(y_train, 10)\n",
    "y_test = to_categorical(y_test, 10)\n"
   ]
  },
  {
   "cell_type": "markdown",
   "id": "1aaab436",
   "metadata": {},
   "source": [
    "#### Construção do modelo"
   ]
  },
  {
   "cell_type": "code",
   "execution_count": 6,
   "id": "f8f1d151",
   "metadata": {},
   "outputs": [
    {
     "name": "stderr",
     "output_type": "stream",
     "text": [
      "2023-12-06 15:05:26.409054: I tensorflow/core/common_runtime/process_util.cc:146] Creating new thread pool with default inter op setting: 2. Tune using inter_op_parallelism_threads for best performance.\n"
     ]
    }
   ],
   "source": [
    "# Build the CNN model\n",
    "model = Sequential()\n",
    "model.add(Conv2D(32, (3, 3), activation='relu', input_shape=(28, 28, 1)))\n",
    "model.add(MaxPooling2D((2, 2)))\n",
    "model.add(Conv2D(64, (3, 3), activation='relu'))\n",
    "model.add(MaxPooling2D((2, 2)))\n",
    "model.add(Flatten())\n",
    "model.add(Dense(64, activation='relu'))\n",
    "model.add(Dense(10, activation='softmax'))"
   ]
  },
  {
   "cell_type": "code",
   "execution_count": 7,
   "id": "c4b4d8f4",
   "metadata": {},
   "outputs": [],
   "source": [
    "# Compile the model\n",
    "model.compile(optimizer='adam', loss='categorical_crossentropy', metrics=['accuracy'])\n"
   ]
  },
  {
   "cell_type": "code",
   "execution_count": 8,
   "id": "44892168",
   "metadata": {},
   "outputs": [
    {
     "name": "stdout",
     "output_type": "stream",
     "text": [
      "Epoch 1/5\n",
      "938/938 [==============================] - 190s 202ms/step - loss: 0.1693 - accuracy: 0.9484 - val_loss: 0.0514 - val_accuracy: 0.9836\n",
      "Epoch 2/5\n",
      "938/938 [==============================] - 183s 195ms/step - loss: 0.0494 - accuracy: 0.9847 - val_loss: 0.0326 - val_accuracy: 0.9897\n",
      "Epoch 3/5\n",
      "938/938 [==============================] - 184s 197ms/step - loss: 0.0341 - accuracy: 0.9899 - val_loss: 0.0341 - val_accuracy: 0.9893\n",
      "Epoch 4/5\n",
      "938/938 [==============================] - 188s 201ms/step - loss: 0.0255 - accuracy: 0.9922 - val_loss: 0.0408 - val_accuracy: 0.9859\n",
      "Epoch 5/5\n",
      "938/938 [==============================] - 182s 194ms/step - loss: 0.0198 - accuracy: 0.9936 - val_loss: 0.0450 - val_accuracy: 0.9862\n"
     ]
    }
   ],
   "source": [
    "# Train the model\n",
    "history = model.fit(X_train, y_train, epochs=5, batch_size=64, validation_data=(X_test, y_test))\n"
   ]
  },
  {
   "cell_type": "code",
   "execution_count": 10,
   "id": "786396d4",
   "metadata": {},
   "outputs": [
    {
     "name": "stdout",
     "output_type": "stream",
     "text": [
      "313/313 [==============================] - 27s 87ms/step - loss: 0.0450 - accuracy: 0.9862\n",
      "Accuracy: 98.62\n"
     ]
    }
   ],
   "source": [
    "_, accuracy = model.evaluate(X_test, y_test)\n",
    "print('Accuracy: %.2f' % (accuracy * 100))"
   ]
  },
  {
   "cell_type": "code",
   "execution_count": 11,
   "id": "d9210f1d",
   "metadata": {},
   "outputs": [
    {
     "data": {
      "text/plain": [
       "<matplotlib.legend.Legend at 0x7f7ab0bae4d0>"
      ]
     },
     "execution_count": 11,
     "metadata": {},
     "output_type": "execute_result"
    },
    {
     "data": {
      "image/png": "[encoded data removed]",
      "text/plain": [
       "<Figure size 1200x500 with 1 Axes>"
      ]
     },
     "metadata": {},
     "output_type": "display_data"
    }
   ],
   "source": [
    "# Plot Training History\n",
    "plt.figure(figsize=(12, 5))\n",
    "\n",
    "# Plot Training and Validation Loss\n",
    "plt.subplot(1, 2, 1)\n",
    "plt.plot(history.history['loss'], label='Training Loss')\n",
    "plt.plot(history.history['val_loss'], label='Validation Loss')\n",
    "plt.title('Training and Validation Loss')\n",
    "plt.xlabel('Epoch')\n",
    "plt.ylabel('Loss')\n",
    "plt.legend()"
   ]
  },
  {
   "cell_type": "markdown",
   "id": "28f25ff1",
   "metadata": {},
   "source": [
    "![overfitting](overfittingcnn.png)"
   ]
  },
  {
   "cell_type": "code",
   "execution_count": null,
   "id": "84d78d89",
   "metadata": {},
   "outputs": [],
   "source": []
  }
 ],
 "metadata": {
  "kernelspec": {
   "display_name": "Python 3 (ipykernel)",
   "language": "python",
   "name": "python3"
  },
  "language_info": {
   "codemirror_mode": {
    "name": "ipython",
    "version": 3
   },
   "file_extension": ".py",
   "mimetype": "text/x-python",
   "name": "python",
   "nbconvert_exporter": "python",
   "pygments_lexer": "ipython3",
   "version": "3.11.5"
  }
 },
 "nbformat": 4,
 "nbformat_minor": 5
}
