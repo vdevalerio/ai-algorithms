{
 "cells": [
  {
   "cell_type": "markdown",
   "id": "35617782",
   "metadata": {
    "slideshow": {
     "slide_type": "slide"
    }
   },
   "source": [
    "# Redes Neurais Artificiais (Artificial Neural Networks - ANN)"
   ]
  },
  {
   "cell_type": "markdown",
   "id": "ecaf34be",
   "metadata": {
    "slideshow": {
     "slide_type": "slide"
    }
   },
   "source": [
    "## O que é ?"
   ]
  },
  {
   "cell_type": "markdown",
   "id": "fa3d6994",
   "metadata": {
    "slideshow": {
     "slide_type": "fragment"
    }
   },
   "source": [
    "- Inspirados no funcionamento do cérebro humano"
   ]
  },
  {
   "cell_type": "markdown",
   "id": "76fc071d",
   "metadata": {
    "slideshow": {
     "slide_type": "fragment"
    }
   },
   "source": [
    "- Unidades de processamento interligadas (neurônios)"
   ]
  },
  {
   "cell_type": "markdown",
   "id": "13b2b096",
   "metadata": {
    "slideshow": {
     "slide_type": "notes"
    }
   },
   "source": [
    "Redes Neurais Artificiais (ANNs) são sistemas de computação inspirados no funcionamento do cérebro humano. Elas são formadas por um grande número de unidades de processamento interligadas (neurônios), trabalhando em conjunto para resolver problemas específicos. ANNs são usadas em uma variedade de aplicações, incluindo reconhecimento de voz, visão computacional e previsão de séries temporais."
   ]
  },
  {
   "cell_type": "markdown",
   "id": "0176eff4",
   "metadata": {
    "slideshow": {
     "slide_type": "slide"
    }
   },
   "source": [
    "## Como funciona"
   ]
  },
  {
   "cell_type": "markdown",
   "id": "8390da19",
   "metadata": {
    "slideshow": {
     "slide_type": "fragment"
    }
   },
   "source": [
    "- Neurônios e Camadas"
   ]
  },
  {
   "cell_type": "markdown",
   "id": "beecd4b0",
   "metadata": {
    "slideshow": {
     "slide_type": "notes"
    }
   },
   "source": [
    "Uma ANN consiste em camadas de neurônios, incluindo uma camada de entrada, uma ou mais camadas ocultas e uma camada de saída. Cada neurônio em uma camada está conectado a vários neurônios na camada seguinte."
   ]
  },
  {
   "cell_type": "markdown",
   "id": "55a9d797",
   "metadata": {
    "slideshow": {
     "slide_type": "fragment"
    }
   },
   "source": [
    "- Pesos e Bias"
   ]
  },
  {
   "cell_type": "markdown",
   "id": "0f091c7d",
   "metadata": {
    "slideshow": {
     "slide_type": "notes"
    }
   },
   "source": [
    "Cada conexão entre neurônios tem um peso associado que ajusta a importância da entrada. Cada neurônio também tem um bias, que ajusta a saída do neurônio junto com a soma ponderada das entradas."
   ]
  },
  {
   "cell_type": "markdown",
   "id": "d14e71b5",
   "metadata": {
    "slideshow": {
     "slide_type": "fragment"
    }
   },
   "source": [
    "- Função de Ativação"
   ]
  },
  {
   "cell_type": "markdown",
   "id": "a6a8726d",
   "metadata": {
    "slideshow": {
     "slide_type": "notes"
    }
   },
   "source": [
    "A saída de cada neurônio é transformada por uma função de ativação. Funções comuns incluem a sigmóide, tanh e ReLU."
   ]
  },
  {
   "cell_type": "markdown",
   "id": "5b778bb2",
   "metadata": {
    "slideshow": {
     "slide_type": "fragment"
    }
   },
   "source": [
    "- Propagação para Frente e Retropropagação"
   ]
  },
  {
   "cell_type": "markdown",
   "id": "58b6ac32",
   "metadata": {
    "slideshow": {
     "slide_type": "notes"
    }
   },
   "source": [
    "Durante o treinamento, a rede realiza uma propagação para frente dos dados de entrada, passando por cada camada até gerar uma saída. O erro é calculado comparando a saída com o valor esperado. A retropropagação é então usada para ajustar os pesos e bias para minimizar o erro."
   ]
  },
  {
   "cell_type": "markdown",
   "id": "1a893466",
   "metadata": {
    "slideshow": {
     "slide_type": "subslide"
    }
   },
   "source": [
    "![ann.png](ann.jpg)"
   ]
  },
  {
   "cell_type": "markdown",
   "id": "9c72c73e",
   "metadata": {
    "slideshow": {
     "slide_type": "slide"
    }
   },
   "source": [
    "## Aplicações"
   ]
  },
  {
   "cell_type": "markdown",
   "id": "549d6d26",
   "metadata": {
    "slideshow": {
     "slide_type": "subslide"
    }
   },
   "source": [
    "- Visão Computacional:\n",
    "    * Reconhecimento de Objetos em Imagens e Vídeos.\n",
    "    * Segmentação Semântica para Identificação de Áreas Específicas.\n",
    "\n",
    "- Processamento de Linguagem Natural (NLP):\n",
    "    * Tradução Automática de Idiomas.\n",
    "    * Chatbots e Assistência Virtual.\n",
    "\n",
    "- Saúde:\n",
    "    * Diagnóstico Médico com Base em Imagens Médicas.\n",
    "    * Previsão de Resultados Clínicos e Prognósticos.\n"
   ]
  },
  {
   "cell_type": "markdown",
   "id": "c473d0c8",
   "metadata": {
    "slideshow": {
     "slide_type": "subslide"
    }
   },
   "source": [
    "- Jogos e Entretenimento:\n",
    "    * Geração de Conteúdo em Jogos.\n",
    "    * Animação de Personagens com Base em Comportamento Imitativo.\n",
    "\n",
    "- Finanças:\n",
    "    * Previsão de Tendências e Movimentos do Mercado Financeiro.\n",
    "    * Avaliação de Riscos e Retornos em Investimentos."
   ]
  },
  {
   "cell_type": "markdown",
   "id": "5eabf41a",
   "metadata": {
    "slideshow": {
     "slide_type": "slide"
    }
   },
   "source": [
    "## Vantagens"
   ]
  },
  {
   "cell_type": "markdown",
   "id": "10110d17",
   "metadata": {
    "slideshow": {
     "slide_type": "fragment"
    }
   },
   "source": [
    "- Modelagem de Relações Complexas"
   ]
  },
  {
   "cell_type": "markdown",
   "id": "5fc3e7f2",
   "metadata": {
    "slideshow": {
     "slide_type": "notes"
    }
   },
   "source": [
    "As ANNs são capazes de modelar relações não lineares complexas entre entradas e saídas, tornando-as adequadas para uma ampla gama de aplicações."
   ]
  },
  {
   "cell_type": "markdown",
   "id": "787db60a",
   "metadata": {
    "slideshow": {
     "slide_type": "fragment"
    }
   },
   "source": [
    "- Adaptabilidade"
   ]
  },
  {
   "cell_type": "markdown",
   "id": "3e89611f",
   "metadata": {
    "slideshow": {
     "slide_type": "notes"
    }
   },
   "source": [
    "Elas podem se adaptar a novos dados ou mudanças nos dados existentes através do ajuste dos pesos."
   ]
  },
  {
   "cell_type": "markdown",
   "id": "980a3401",
   "metadata": {
    "slideshow": {
     "slide_type": "fragment"
    }
   },
   "source": [
    "- Generalização"
   ]
  },
  {
   "cell_type": "markdown",
   "id": "d4d848a6",
   "metadata": {
    "slideshow": {
     "slide_type": "notes"
    }
   },
   "source": [
    "Uma vez treinadas, as ANNs são capazes de generalizar a partir dos dados de treinamento para lidar com novos dados de entrada."
   ]
  },
  {
   "cell_type": "markdown",
   "id": "8139ca38",
   "metadata": {
    "slideshow": {
     "slide_type": "slide"
    }
   },
   "source": [
    "## Desvantagens"
   ]
  },
  {
   "cell_type": "markdown",
   "id": "70477db1",
   "metadata": {
    "slideshow": {
     "slide_type": "fragment"
    }
   },
   "source": [
    "- Requerem Grande Quantidade de Dados"
   ]
  },
  {
   "cell_type": "markdown",
   "id": "5b3a00e1",
   "metadata": {
    "slideshow": {
     "slide_type": "notes"
    }
   },
   "source": [
    "Para que uma ANN aprenda eficazmente, é geralmente necessária uma grande quantidade de dados de treinamento."
   ]
  },
  {
   "cell_type": "markdown",
   "id": "761fcd3e",
   "metadata": {
    "slideshow": {
     "slide_type": "fragment"
    }
   },
   "source": [
    "- Custo Computacional"
   ]
  },
  {
   "cell_type": "markdown",
   "id": "f0c2b715",
   "metadata": {
    "slideshow": {
     "slide_type": "notes"
    }
   },
   "source": [
    "O treinamento de ANNs pode ser intensivo em termos de computação, especialmente para redes grandes e datasets complexos."
   ]
  },
  {
   "cell_type": "markdown",
   "id": "a9fae9e1",
   "metadata": {
    "slideshow": {
     "slide_type": "fragment"
    }
   },
   "source": [
    "- Risco de Sobreajuste"
   ]
  },
  {
   "cell_type": "markdown",
   "id": "d9ab9150",
   "metadata": {
    "slideshow": {
     "slide_type": "notes"
    }
   },
   "source": [
    "ANNs com muitos parâmetros podem sobreajustar os dados de treinamento, o que prejudica a performance em dados novos ou não vistos."
   ]
  },
  {
   "cell_type": "markdown",
   "id": "ba5b827b",
   "metadata": {
    "slideshow": {
     "slide_type": "slide"
    }
   },
   "source": [
    "## Exemplo de código ANN"
   ]
  },
  {
   "cell_type": "code",
   "execution_count": 1,
   "id": "58b6f8d4",
   "metadata": {
    "slideshow": {
     "slide_type": "subslide"
    }
   },
   "outputs": [
    {
     "name": "stderr",
     "output_type": "stream",
     "text": [
      "2023-12-06 15:03:53.530169: I tensorflow/core/platform/cpu_feature_guard.cc:182] This TensorFlow binary is optimized to use available CPU instructions in performance-critical operations.\n",
      "To enable the following instructions: SSE3 SSE4.1 SSE4.2 AVX AVX2 FMA, in other operations, rebuild TensorFlow with the appropriate compiler flags.\n"
     ]
    }
   ],
   "source": [
    "import matplotlib.pyplot as plt\n",
    "import seaborn as sns\n",
    "import numpy as np\n",
    "from keras.datasets import boston_housing\n",
    "from keras.models import Sequential\n",
    "from keras.layers import Dense\n",
    "from sklearn.preprocessing import StandardScaler"
   ]
  },
  {
   "cell_type": "code",
   "execution_count": 2,
   "id": "a1adbd22",
   "metadata": {
    "slideshow": {
     "slide_type": "subslide"
    }
   },
   "outputs": [],
   "source": [
    "(X_train, y_train), (X_test, y_test) = boston_housing.load_data()\n",
    "scaler = StandardScaler()\n",
    "X_train_scaled = scaler.fit_transform(X_train)\n",
    "X_test_scaled = scaler.transform(X_test)"
   ]
  },
  {
   "cell_type": "code",
   "execution_count": 3,
   "id": "27b6e80c",
   "metadata": {
    "slideshow": {
     "slide_type": "subslide"
    }
   },
   "outputs": [
    {
     "name": "stderr",
     "output_type": "stream",
     "text": [
      "2023-12-06 15:03:59.629355: I tensorflow/core/common_runtime/process_util.cc:146] Creating new thread pool with default inter op setting: 2. Tune using inter_op_parallelism_threads for best performance.\n"
     ]
    }
   ],
   "source": [
    "model = Sequential()\n",
    "model.add(Dense(64, activation='relu', input_shape=(X_train.shape[1],)))\n",
    "model.add(Dense(64, activation='relu'))\n",
    "model.add(Dense(1))"
   ]
  },
  {
   "cell_type": "code",
   "execution_count": 7,
   "id": "dd35ebdf",
   "metadata": {
    "slideshow": {
     "slide_type": "subslide"
    }
   },
   "outputs": [],
   "source": [
    "model.compile(optimizer='rmsprop', loss='mse', metrics=['mae'])\n",
    "history = model.fit(X_train_scaled, y_train, epochs=50, batch_size=64, verbose=0)\n"
   ]
  },
  {
   "cell_type": "code",
   "execution_count": 8,
   "id": "7480ae02",
   "metadata": {
    "slideshow": {
     "slide_type": "subslide"
    }
   },
   "outputs": [
    {
     "name": "stdout",
     "output_type": "stream",
     "text": [
      "4/4 [==============================] - 0s 25ms/step - loss: 23.0802 - mae: 3.1351\n",
      "Test MAE: 3.14\n"
     ]
    }
   ],
   "source": [
    "_, mae = model.evaluate(X_test_scaled, y_test)\n",
    "print('Test MAE: %.2f' % mae)"
   ]
  },
  {
   "cell_type": "code",
   "execution_count": 9,
   "id": "cbd7582c",
   "metadata": {
    "slideshow": {
     "slide_type": "subslide"
    }
   },
   "outputs": [
    {
     "data": {
      "image/png": "[encoded data removed]",
      "text/plain": [
       "<Figure size 1200x500 with 2 Axes>"
      ]
     },
     "metadata": {},
     "output_type": "display_data"
    }
   ],
   "source": [
    "# Plot Training History\n",
    "plt.figure(figsize=(12, 5))\n",
    "\n",
    "# Plot Loss\n",
    "plt.subplot(1, 2, 1)\n",
    "plt.plot(history.history['loss'])\n",
    "plt.title('Training Loss')\n",
    "plt.xlabel('Epoch')\n",
    "plt.ylabel('Loss')\n",
    "\n",
    "# Plot MAE\n",
    "plt.subplot(1, 2, 2)\n",
    "plt.plot(history.history['mae'])\n",
    "plt.title('Training Mean Absolute Error (MAE)')\n",
    "plt.xlabel('Epoch')\n",
    "plt.ylabel('MAE')\n",
    "\n",
    "plt.tight_layout()\n",
    "plt.show()"
   ]
  }
 ],
 "metadata": {
  "celltoolbar": "Slideshow",
  "kernelspec": {
   "display_name": "Python 3 (ipykernel)",
   "language": "python",
   "name": "python3"
  },
  "language_info": {
   "codemirror_mode": {
    "name": "ipython",
    "version": 3
   },
   "file_extension": ".py",
   "mimetype": "text/x-python",
   "name": "python",
   "nbconvert_exporter": "python",
   "pygments_lexer": "ipython3",
   "version": "3.11.5"
  }
 },
 "nbformat": 4,
 "nbformat_minor": 5
}
