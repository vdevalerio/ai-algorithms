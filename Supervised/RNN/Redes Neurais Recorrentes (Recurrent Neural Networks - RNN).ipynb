{
 "cells": [
  {
   "cell_type": "markdown",
   "id": "65b3751d",
   "metadata": {},
   "source": [
    "# Redes Neurais Recorrentes (Recurrent Neural Networks - RNN)\n",
    "## Redes Neurais Recorrentes (RNN) são um tipo de rede neural especialmente adequada para processar sequências de dados, como séries temporais, texto, áudio ou qualquer outra forma de dados onde a ordem temporal é relevante. A característica principal das RNNs é a capacidade de usar informações de entradas anteriores para influenciar o processamento atual."
   ]
  },
  {
   "cell_type": "markdown",
   "id": "aeeb092f",
   "metadata": {},
   "source": [
    "## Como funciona\n",
    "* Loop Temporal: Ao contrário das redes neurais tradicionais, as RNNs possuem um loop que permite que a informação persista, ou seja, as saídas de um passo são usadas como entradas para o próximo passo.\n",
    "* Processamento Sequencial: Em cada etapa temporal, a RNN processa um elemento da sequência de entrada, atualiza seu estado (memória) com base nesse elemento e o estado anterior, e produz uma saída.\n",
    "* Estado Oculto: O estado oculto (memória) da RNN tenta capturar e armazenar informações sobre as entradas que a rede já processou, o que é crucial para tarefas onde o contexto histórico é importante.\n",
    "* Backpropagation Through Time (BPTT): Para treinar uma RNN, utiliza-se uma variante do backpropagation chamada BPTT, onde os gradientes são propagados para trás através de cada passo da sequência."
   ]
  },
  {
   "cell_type": "markdown",
   "id": "3e3cc25d",
   "metadata": {},
   "source": [
    "![rnn](rnn.png)"
   ]
  },
  {
   "cell_type": "markdown",
   "id": "c7712dbb",
   "metadata": {},
   "source": [
    "### Vantagens\n",
    "* Adequação para Dados Sequenciais: As RNNs são naturalmente adequadas para dados sequenciais e podem lidar com entradas de comprimento variável.\n",
    "* Modelagem de Dependências Temporais: Podem modelar dependências temporais de diferentes comprimentos, o que é crucial em muitas aplicações práticas, como na linguagem natural.\n",
    "* Uso Compartilhado de Parâmetros: Ao contrário das redes densas, as RNNs compartilham os mesmos parâmetros em todos os passos de tempo, o que as torna mais eficientes e menos propensas a sobreajustar."
   ]
  },
  {
   "cell_type": "markdown",
   "id": "3fbfa3ad",
   "metadata": {},
   "source": [
    "### Desvantagens\n",
    "* Problema do Desaparecimento do Gradiente: As RNNs tradicionais têm dificuldade em capturar dependências de longo prazo devido ao desaparecimento do gradiente durante o treinamento.\n",
    "* Desafios Computacionais: O treinamento de RNNs pode ser computacionalmente desafiador e demorado, especialmente para sequências longas.\n",
    "* Dificuldade em Paralelização: Diferentemente das CNNs, o processamento sequencial das RNNs dificulta a paralelização, tornando o treinamento mais lento."
   ]
  },
  {
   "cell_type": "markdown",
   "id": "35281807",
   "metadata": {},
   "source": [
    "### Aplicações\n",
    "#### Processamento de Linguagem Natural (NLP):\n",
    "* Tradução Automática de Idiomas.\n",
    "* Geração de Texto Automática.\n",
    "\n",
    "#### Música e Sequências Temporais:\n",
    "* Composição Musical Automática.\n",
    "* Previsão de Séries Temporais, como Preços de Ações.\n",
    "\n",
    "#### Reconhecimento de Voz:\n",
    "* Transcrição Automática de Áudio.\n",
    "* Comandos de Voz em Dispositivos Eletrônicos.\n",
    "\n",
    "#### Saúde:\n",
    "* Previsão de Evolução de Doenças Crônicas.\n",
    "* Análise de Sinais Biomédicos Sequenciais.\n",
    "\n",
    "#### Análise de Sentimento Temporal:\n",
    "* Análise de Sentimento em Redes Sociais ao Longo do Tempo.\n",
    "* Identificação de Mudanças de Opinião ao Longo de Sequências."
   ]
  },
  {
   "cell_type": "markdown",
   "id": "838dcbce",
   "metadata": {},
   "source": [
    "#### Exemplo de código com RNN"
   ]
  },
  {
   "cell_type": "code",
   "execution_count": 7,
   "id": "974be881",
   "metadata": {},
   "outputs": [],
   "source": [
    "import matplotlib.pyplot as plt\n",
    "from keras.datasets import reuters\n",
    "from keras.preprocessing import sequence\n",
    "from keras.models import Sequential\n",
    "from keras.layers import Embedding, SimpleRNN, Dense"
   ]
  },
  {
   "cell_type": "code",
   "execution_count": 8,
   "id": "7aff9b90",
   "metadata": {},
   "outputs": [],
   "source": [
    "# Load the Reuters dataset\n",
    "max_features = 10000\n",
    "maxlen = 500\n",
    "batch_size = 32"
   ]
  },
  {
   "cell_type": "code",
   "execution_count": 3,
   "id": "69c3bb8b",
   "metadata": {},
   "outputs": [],
   "source": [
    "# Pad sequences\n",
    "X_train = sequence.pad_sequences(X_train, maxlen=500)\n",
    "X_test = sequence.pad_sequences(X_test, maxlen=500)"
   ]
  },
  {
   "cell_type": "code",
   "execution_count": 9,
   "id": "8360124d",
   "metadata": {},
   "outputs": [
    {
     "name": "stdout",
     "output_type": "stream",
     "text": [
      "Downloading data from https://storage.googleapis.com/tensorflow/tf-keras-datasets/reuters.npz\n",
      "2110848/2110848 [==============================] - 1s 0us/step\n"
     ]
    }
   ],
   "source": [
    "(input_train, y_train), (input_test, y_test) = reuters.load_data(num_words=max_features)"
   ]
  },
  {
   "cell_type": "code",
   "execution_count": 5,
   "id": "f9e1dc3b",
   "metadata": {},
   "outputs": [],
   "source": [
    "# Compile the model\n",
    "model.compile(optimizer='rmsprop', loss='binary_crossentropy', metrics=['acc'])"
   ]
  },
  {
   "cell_type": "code",
   "execution_count": 10,
   "id": "5d1d8e75",
   "metadata": {},
   "outputs": [
    {
     "name": "stdout",
     "output_type": "stream",
     "text": [
      "Pad sequences (samples x time)\n"
     ]
    }
   ],
   "source": [
    "# Pad sequences\n",
    "print('Pad sequences (samples x time)')\n",
    "input_train = sequence.pad_sequences(input_train, maxlen=maxlen)\n",
    "input_test = sequence.pad_sequences(input_test, maxlen=maxlen)"
   ]
  },
  {
   "cell_type": "code",
   "execution_count": 11,
   "id": "c3a6416e",
   "metadata": {},
   "outputs": [],
   "source": [
    "# Define the RNN model\n",
    "model = Sequential()\n",
    "model.add(Embedding(max_features, 32))\n",
    "model.add(SimpleRNN(32))\n",
    "model.add(Dense(46, activation='softmax'))"
   ]
  },
  {
   "cell_type": "code",
   "execution_count": 12,
   "id": "fdd467fc",
   "metadata": {},
   "outputs": [],
   "source": [
    "# Compile the model\n",
    "model.compile(optimizer='adam', loss='sparse_categorical_crossentropy', metrics=['accuracy'])\n"
   ]
  },
  {
   "cell_type": "code",
   "execution_count": 13,
   "id": "e30ff7d5",
   "metadata": {},
   "outputs": [
    {
     "name": "stdout",
     "output_type": "stream",
     "text": [
      "Epoch 1/10\n",
      "225/225 [==============================] - 909s 4s/step - loss: 2.6779 - accuracy: 0.3215 - val_loss: 2.3299 - val_accuracy: 0.3461\n",
      "Epoch 2/10\n",
      "225/225 [==============================] - 861s 4s/step - loss: 2.1910 - accuracy: 0.4189 - val_loss: 2.1670 - val_accuracy: 0.4268\n",
      "Epoch 3/10\n",
      "225/225 [==============================] - 846s 4s/step - loss: 1.8288 - accuracy: 0.5304 - val_loss: 2.0025 - val_accuracy: 0.4602\n",
      "Epoch 4/10\n",
      "225/225 [==============================] - 813s 4s/step - loss: 1.4717 - accuracy: 0.6351 - val_loss: 2.0661 - val_accuracy: 0.4446\n",
      "Epoch 5/10\n",
      "225/225 [==============================] - 871s 4s/step - loss: 1.1864 - accuracy: 0.7006 - val_loss: 2.1028 - val_accuracy: 0.4513\n",
      "Epoch 6/10\n",
      "225/225 [==============================] - 816s 4s/step - loss: 1.1464 - accuracy: 0.7133 - val_loss: 2.5677 - val_accuracy: 0.3868\n",
      "Epoch 7/10\n",
      "225/225 [==============================] - 813s 4s/step - loss: 1.2013 - accuracy: 0.6853 - val_loss: 2.2226 - val_accuracy: 0.4457\n",
      "Epoch 8/10\n",
      "225/225 [==============================] - 861s 4s/step - loss: 0.8298 - accuracy: 0.7958 - val_loss: 2.3110 - val_accuracy: 0.4413\n",
      "Epoch 9/10\n",
      "225/225 [==============================] - 856s 4s/step - loss: 0.6607 - accuracy: 0.8420 - val_loss: 2.3358 - val_accuracy: 0.4524\n",
      "Epoch 10/10\n",
      "225/225 [==============================] - 857s 4s/step - loss: 0.6017 - accuracy: 0.8586 - val_loss: 2.4740 - val_accuracy: 0.4524\n"
     ]
    }
   ],
   "source": [
    "# Train the model\n",
    "history = model.fit(input_train, y_train, epochs=10, batch_size=batch_size, validation_split=0.2)"
   ]
  },
  {
   "cell_type": "code",
   "execution_count": 14,
   "id": "859842c2",
   "metadata": {},
   "outputs": [
    {
     "data": {
      "text/plain": [
       "<matplotlib.legend.Legend at 0x7f04ca3b4f10>"
      ]
     },
     "execution_count": 14,
     "metadata": {},
     "output_type": "execute_result"
    },
    {
     "data": {
      "image/png": "[encoded data removed]",
      "text/plain": [
       "<Figure size 1200x400 with 1 Axes>"
      ]
     },
     "metadata": {},
     "output_type": "display_data"
    }
   ],
   "source": [
    "# Plot training history\n",
    "plt.figure(figsize=(12, 4))\n",
    "\n",
    "# Plot training & validation accuracy values\n",
    "plt.subplot(1, 2, 1)\n",
    "plt.plot(history.history['accuracy'])\n",
    "plt.plot(history.history['val_accuracy'])\n",
    "plt.title('Model accuracy')\n",
    "plt.xlabel('Epoch')\n",
    "plt.ylabel('Accuracy')\n",
    "plt.legend(['Train', 'Validation'], loc='upper left')"
   ]
  },
  {
   "cell_type": "code",
   "execution_count": 15,
   "id": "c09c25c0",
   "metadata": {},
   "outputs": [
    {
     "data": {
      "image/png": "[encoded data removed]",
      "text/plain": [
       "<Figure size 640x480 with 1 Axes>"
      ]
     },
     "metadata": {},
     "output_type": "display_data"
    }
   ],
   "source": [
    "# Plot training & validation loss values\n",
    "plt.subplot(1, 2, 2)\n",
    "plt.plot(history.history['loss'])\n",
    "plt.plot(history.history['val_loss'])\n",
    "plt.title('Model loss')\n",
    "plt.xlabel('Epoch')\n",
    "plt.ylabel('Loss')\n",
    "plt.legend(['Train', 'Validation'], loc='upper left')\n",
    "\n",
    "plt.tight_layout()\n",
    "plt.show()\n"
   ]
  },
  {
   "cell_type": "code",
   "execution_count": 16,
   "id": "4371372f",
   "metadata": {},
   "outputs": [
    {
     "name": "stdout",
     "output_type": "stream",
     "text": [
      "Evaluating...\n",
      "71/71 [==============================] - 212s 3s/step - loss: 2.5012 - accuracy: 0.4448\n",
      "Test Loss: 2.5011801719665527\n",
      "Test Accuracy: 0.4447907507419586\n"
     ]
    }
   ],
   "source": [
    "# Evaluate the model\n",
    "print('Evaluating...')\n",
    "loss, accuracy = model.evaluate(input_test, y_test, batch_size=batch_size)\n",
    "print('Test Loss:', loss)\n",
    "print('Test Accuracy:', accuracy)"
   ]
  },
  {
   "cell_type": "code",
   "execution_count": null,
   "id": "cafcb359",
   "metadata": {},
   "outputs": [],
   "source": []
  }
 ],
 "metadata": {
  "kernelspec": {
   "display_name": "Python 3 (ipykernel)",
   "language": "python",
   "name": "python3"
  },
  "language_info": {
   "codemirror_mode": {
    "name": "ipython",
    "version": 3
   },
   "file_extension": ".py",
   "mimetype": "text/x-python",
   "name": "python",
   "nbconvert_exporter": "python",
   "pygments_lexer": "ipython3",
   "version": "3.11.6"
  }
 },
 "nbformat": 4,
 "nbformat_minor": 5
}
