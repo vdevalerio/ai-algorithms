{
 "cells": [
  {
   "cell_type": "markdown",
   "id": "f49946a8",
   "metadata": {},
   "source": [
    "# K-Nearest Neighbors (KNN)\n",
    "## K-Nearest Neighbors (KNN) é um método simples, mas poderoso, usado para classificação e regressão. Em ambos os casos, a entrada consiste nos k exemplos de treinamento mais próximos no espaço de características."
   ]
  },
  {
   "cell_type": "markdown",
   "id": "39a98707",
   "metadata": {},
   "source": [
    "## Como funciona\n",
    "* Definir o Número de Vizinhos (k): KNN começa com a escolha do número 'k' de vizinhos mais próximos. 'k' é geralmente um número ímpar para evitar empates.\n",
    "\n",
    "* Cálculo da Distância: Calcula-se a distância entre o ponto de consulta e cada ponto de dados usando medidas de distância como Euclidiana, Manhattan, ou Hamming.\n",
    "\n",
    "* Encontrar os Vizinhos Mais Próximos: Identifica-se os 'k' pontos de dados mais próximos do ponto de consulta.\n",
    "\n",
    "* Votação para Classificação / Média para Regressão: Para classificação, o label mais frequente entre os k vizinhos mais próximos é escolhido como a previsão. Para regressão, a média dos valores dos vizinhos mais próximos é usada."
   ]
  },
  {
   "cell_type": "markdown",
   "id": "e9241643",
   "metadata": {},
   "source": [
    "![knn](knn.png)"
   ]
  },
  {
   "cell_type": "markdown",
   "id": "debc436a",
   "metadata": {},
   "source": [
    "### Vantagens\n",
    "\n",
    "* Simplicidade e Eficácia: KNN é fácil de entender e implementar e pode ser muito eficaz em alguns casos.\n",
    "\n",
    "* Não Paramétrico: Como é um método não paramétrico, é versátil e pode ser usado em situações complexas onde a relação entre dados não é conhecida.\n",
    "\n",
    "* Adapta-se a Mudanças de Dados: KNN não assume nada sobre a distribuição subjacente dos dados, tornando-o uma boa escolha em casos onde a distribuição dos dados é desconhecida."
   ]
  },
  {
   "cell_type": "markdown",
   "id": "01e609d8",
   "metadata": {},
   "source": [
    "### Desvantagens\n",
    "* Lento em Grandes Conjuntos de Dados: Como KNN requer que a distância seja calculada entre o ponto de consulta e todos os pontos de dados, ele pode ser muito lento em grandes datasets.\n",
    "\n",
    "* Sensível a Features Irrelevantes: KNN é sensível a características irrelevantes ou redundantes, pois todas as características contribuem igualmente para a determinação da similaridade.\n",
    "\n",
    "* Sensível a Dados Desequilibrados: Em datasets com desequilíbrios de classe, KNN pode ter um viés para as classes mais frequentes."
   ]
  },
  {
   "cell_type": "markdown",
   "id": "009ba907",
   "metadata": {},
   "source": [
    "### Aplicações\n",
    "#### Sistemas de Recomendação:\n",
    "\n",
    "* Recomendação de Produtos em Plataformas de Comércio Eletrônico.\n",
    "* Sugestão de Filmes ou Músicas com Base nos Interesses do Usuário.\n",
    "\n",
    "#### Bioinformática:\n",
    "\n",
    "* Classificação de Sequências Genéticas para Identificar Padrões Biológicos.\n",
    "* Diagnóstico Médico com Base em Características Clínicas.\n",
    "\n",
    "#### Previsão Meteorológica:\n",
    "\n",
    "* Previsão de Temperatura com Base em Dados Históricos de Clima.\n",
    "* Identificação de Padrões para Antecipar Condições Climáticas.\n",
    "\n",
    "#### Marketing:\n",
    "\n",
    "* Segmentação de Clientes com Base em Comportamentos de Compra.\n",
    "* Personalização de Campanhas de Marketing para Grupos Específicos.\n",
    "\n",
    "#### Análise de Sentimento:\n",
    "\n",
    "* Classificação de Comentários em Redes Sociais como Positivos ou Negativos.\n",
    "* Avaliação de Reações do Público a Produtos ou Serviços.\n",
    "\n",
    "#### Monitoramento de Redes:\n",
    "\n",
    "* Detecção de Anomalias em Tráfego de Rede.\n",
    "* Classificação de Ataques Cibernéticos com Base em Padrões."
   ]
  },
  {
   "cell_type": "markdown",
   "id": "9ded21df",
   "metadata": {},
   "source": [
    "#### Exemplo de Código com KNN"
   ]
  },
  {
   "cell_type": "code",
   "execution_count": 3,
   "id": "e331ef2b",
   "metadata": {},
   "outputs": [],
   "source": [
    "import matplotlib.pyplot as plt\n",
    "import seaborn as sns\n",
    "from sklearn.datasets import load_wine\n",
    "from sklearn.neighbors import KNeighborsClassifier\n",
    "from sklearn.model_selection import train_test_split\n",
    "from sklearn.metrics import confusion_matrix, classification_report\n",
    "from sklearn.preprocessing import StandardScaler\n",
    "import numpy as np"
   ]
  },
  {
   "cell_type": "code",
   "execution_count": 5,
   "id": "f75df26f",
   "metadata": {},
   "outputs": [],
   "source": [
    "wine_data = load_wine()\n",
    "X = wine_data.data\n",
    "y = wine_data.target\n"
   ]
  },
  {
   "cell_type": "code",
   "execution_count": 6,
   "id": "832a75c7",
   "metadata": {},
   "outputs": [],
   "source": [
    "# Standardize the features\n",
    "scaler = StandardScaler()\n",
    "X_scaled = scaler.fit_transform(X)"
   ]
  },
  {
   "cell_type": "code",
   "execution_count": 7,
   "id": "bf26ae95",
   "metadata": {},
   "outputs": [
    {
     "data": {
      "text/html": [
       "<style>#sk-container-id-1 {color: black;}#sk-container-id-1 pre{padding: 0;}#sk-container-id-1 div.sk-toggleable {background-color: white;}#sk-container-id-1 label.sk-toggleable__label {cursor: pointer;display: block;width: 100%;margin-bottom: 0;padding: 0.3em;box-sizing: border-box;text-align: center;}#sk-container-id-1 label.sk-toggleable__label-arrow:before {content: \"▸\";float: left;margin-right: 0.25em;color: #696969;}#sk-container-id-1 label.sk-toggleable__label-arrow:hover:before {color: black;}#sk-container-id-1 div.sk-estimator:hover label.sk-toggleable__label-arrow:before {color: black;}#sk-container-id-1 div.sk-toggleable__content {max-height: 0;max-width: 0;overflow: hidden;text-align: left;background-color: #f0f8ff;}#sk-container-id-1 div.sk-toggleable__content pre {margin: 0.2em;color: black;border-radius: 0.25em;background-color: #f0f8ff;}#sk-container-id-1 input.sk-toggleable__control:checked~div.sk-toggleable__content {max-height: 200px;max-width: 100%;overflow: auto;}#sk-container-id-1 input.sk-toggleable__control:checked~label.sk-toggleable__label-arrow:before {content: \"▾\";}#sk-container-id-1 div.sk-estimator input.sk-toggleable__control:checked~label.sk-toggleable__label {background-color: #d4ebff;}#sk-container-id-1 div.sk-label input.sk-toggleable__control:checked~label.sk-toggleable__label {background-color: #d4ebff;}#sk-container-id-1 input.sk-hidden--visually {border: 0;clip: rect(1px 1px 1px 1px);clip: rect(1px, 1px, 1px, 1px);height: 1px;margin: -1px;overflow: hidden;padding: 0;position: absolute;width: 1px;}#sk-container-id-1 div.sk-estimator {font-family: monospace;background-color: #f0f8ff;border: 1px dotted black;border-radius: 0.25em;box-sizing: border-box;margin-bottom: 0.5em;}#sk-container-id-1 div.sk-estimator:hover {background-color: #d4ebff;}#sk-container-id-1 div.sk-parallel-item::after {content: \"\";width: 100%;border-bottom: 1px solid gray;flex-grow: 1;}#sk-container-id-1 div.sk-label:hover label.sk-toggleable__label {background-color: #d4ebff;}#sk-container-id-1 div.sk-serial::before {content: \"\";position: absolute;border-left: 1px solid gray;box-sizing: border-box;top: 0;bottom: 0;left: 50%;z-index: 0;}#sk-container-id-1 div.sk-serial {display: flex;flex-direction: column;align-items: center;background-color: white;padding-right: 0.2em;padding-left: 0.2em;position: relative;}#sk-container-id-1 div.sk-item {position: relative;z-index: 1;}#sk-container-id-1 div.sk-parallel {display: flex;align-items: stretch;justify-content: center;background-color: white;position: relative;}#sk-container-id-1 div.sk-item::before, #sk-container-id-1 div.sk-parallel-item::before {content: \"\";position: absolute;border-left: 1px solid gray;box-sizing: border-box;top: 0;bottom: 0;left: 50%;z-index: -1;}#sk-container-id-1 div.sk-parallel-item {display: flex;flex-direction: column;z-index: 1;position: relative;background-color: white;}#sk-container-id-1 div.sk-parallel-item:first-child::after {align-self: flex-end;width: 50%;}#sk-container-id-1 div.sk-parallel-item:last-child::after {align-self: flex-start;width: 50%;}#sk-container-id-1 div.sk-parallel-item:only-child::after {width: 0;}#sk-container-id-1 div.sk-dashed-wrapped {border: 1px dashed gray;margin: 0 0.4em 0.5em 0.4em;box-sizing: border-box;padding-bottom: 0.4em;background-color: white;}#sk-container-id-1 div.sk-label label {font-family: monospace;font-weight: bold;display: inline-block;line-height: 1.2em;}#sk-container-id-1 div.sk-label-container {text-align: center;}#sk-container-id-1 div.sk-container {/* jupyter's `normalize.less` sets `[hidden] { display: none; }` but bootstrap.min.css set `[hidden] { display: none !important; }` so we also need the `!important` here to be able to override the default hidden behavior on the sphinx rendered scikit-learn.org. See: https://github.com/scikit-learn/scikit-learn/issues/21755 */display: inline-block !important;position: relative;}#sk-container-id-1 div.sk-text-repr-fallback {display: none;}</style><div id=\"sk-container-id-1\" class=\"sk-top-container\"><div class=\"sk-text-repr-fallback\"><pre>KNeighborsClassifier()</pre><b>In a Jupyter environment, please rerun this cell to show the HTML representation or trust the notebook. <br />On GitHub, the HTML representation is unable to render, please try loading this page with nbviewer.org.</b></div><div class=\"sk-container\" hidden><div class=\"sk-item\"><div class=\"sk-estimator sk-toggleable\"><input class=\"sk-toggleable__control sk-hidden--visually\" id=\"sk-estimator-id-1\" type=\"checkbox\" checked><label for=\"sk-estimator-id-1\" class=\"sk-toggleable__label sk-toggleable__label-arrow\">KNeighborsClassifier</label><div class=\"sk-toggleable__content\"><pre>KNeighborsClassifier()</pre></div></div></div></div></div>"
      ],
      "text/plain": [
       "KNeighborsClassifier()"
      ]
     },
     "execution_count": 7,
     "metadata": {},
     "output_type": "execute_result"
    }
   ],
   "source": [
    "# Split the dataset\n",
    "X_train, X_test, y_train, y_test = train_test_split(X_scaled, y, test_size=0.3, random_state=42)\n",
    "\n",
    "# Train KNN classifier\n",
    "knn = KNeighborsClassifier(n_neighbors=5)\n",
    "knn.fit(X_train, y_train)"
   ]
  },
  {
   "cell_type": "code",
   "execution_count": 8,
   "id": "eacccc7f",
   "metadata": {},
   "outputs": [],
   "source": [
    "# Make predictions\n",
    "y_pred = knn.predict(X_test)"
   ]
  },
  {
   "cell_type": "code",
   "execution_count": 15,
   "id": "b6dbfd3c",
   "metadata": {},
   "outputs": [
    {
     "name": "stdout",
     "output_type": "stream",
     "text": [
      "[[19  0  0]\n",
      " [ 1 19  1]\n",
      " [ 0  0 14]]\n"
     ]
    },
    {
     "data": {
      "image/png": "[encoded data removed]",
      "text/plain": [
       "<Figure size 640x480 with 2 Axes>"
      ]
     },
     "metadata": {},
     "output_type": "display_data"
    }
   ],
   "source": [
    "# Calculate confusion matrix\n",
    "conf_matrix = confusion_matrix(y_test, y_pred)\n",
    "print(conf_matrix)\n",
    "\n",
    "# Plot Confusion Matrix with plain pyplot\n",
    "plt.imshow(conf_matrix, interpolation='nearest', cmap=plt.cm.Blues)\n",
    "plt.title('Confusion Matrix (KNN)')\n",
    "plt.colorbar()\n",
    "\n",
    "classes = wine_data.target_names\n",
    "tick_marks = np.arange(len(classes))\n",
    "plt.xticks(tick_marks, classes, rotation=45)\n",
    "plt.yticks(tick_marks, classes)\n",
    "\n",
    "# Add numbers to the heatmap\n",
    "for i in range(len(classes)):\n",
    "    for j in range(len(classes)):\n",
    "        plt.text(j, i, str(conf_matrix[i, j]), ha='center', va='center', color='white')\n",
    "\n",
    "plt.ylabel('True label')\n",
    "plt.xlabel('Predicted label')\n",
    "plt.show()"
   ]
  },
  {
   "cell_type": "code",
   "execution_count": 10,
   "id": "14ff38bf",
   "metadata": {},
   "outputs": [
    {
     "name": "stdout",
     "output_type": "stream",
     "text": [
      "              precision    recall  f1-score   support\n",
      "\n",
      "           0       0.95      1.00      0.97        19\n",
      "           1       1.00      0.90      0.95        21\n",
      "           2       0.93      1.00      0.97        14\n",
      "\n",
      "    accuracy                           0.96        54\n",
      "   macro avg       0.96      0.97      0.96        54\n",
      "weighted avg       0.97      0.96      0.96        54\n",
      "\n"
     ]
    }
   ],
   "source": [
    "# Plot Classification Report\n",
    "report = classification_report(y_test, y_pred)\n",
    "print(report)\n"
   ]
  },
  {
   "cell_type": "code",
   "execution_count": null,
   "id": "ca4be76f",
   "metadata": {},
   "outputs": [],
   "source": []
  }
 ],
 "metadata": {
  "kernelspec": {
   "display_name": "Python 3 (ipykernel)",
   "language": "python",
   "name": "python3"
  },
  "language_info": {
   "codemirror_mode": {
    "name": "ipython",
    "version": 3
   },
   "file_extension": ".py",
   "mimetype": "text/x-python",
   "name": "python",
   "nbconvert_exporter": "python",
   "pygments_lexer": "ipython3",
   "version": "3.11.6"
  }
 },
 "nbformat": 4,
 "nbformat_minor": 5
}
