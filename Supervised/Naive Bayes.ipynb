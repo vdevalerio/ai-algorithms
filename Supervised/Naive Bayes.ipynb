{
 "cells": [
  {
   "cell_type": "markdown",
   "id": "2cec709b",
   "metadata": {},
   "source": [
    "# Naive Bayes\n",
    "# O Naive Bayes é uma técnica de classificação baseada no teorema de Bayes, com uma suposição de independência entre os preditores. Simplificando, um modelo Naive Bayes assume que a presença de uma característica particular em uma classe é independente da presença de qualquer outra característica."
   ]
  },
  {
   "attachments": {},
   "cell_type": "markdown",
   "id": "1f2f9fac",
   "metadata": {},
   "source": [
    "## Como Funciona o Naive Bayes\n",
    "Baseado no Teorema de Bayes\n",
    "\n",
    "O Naive Bayes é fundamentado no Teorema de Bayes, um princípio da teoria da probabilidade. O teorema descreve a probabilidade de um evento, baseado no conhecimento prévio de condições que podem estar relacionadas ao evento. A fórmula básica do teorema de Bayes é:\n",
    "\n",
    "![image.png](image.png)\n",
    "\n",
    "Onde:\n",
    "\n",
    "    P(A∣B)P(A∣B) é a probabilidade posterior de A dado B.\n",
    "    P(B∣A)P(B∣A) é a probabilidade de B dado A.\n",
    "    P(A)P(A) e P(B)P(B) são as probabilidades marginais de A e B, respectivamente.\n",
    "\n",
    "Suposição de Independência\n",
    "\n",
    "O termo \"Naive\" (ingênuo) no Naive Bayes vem da suposição de que as características usadas para prever a variável de resposta são independentes umas das outras. Ou seja, a presença (ou ausência) de uma característica não está relacionada à presença (ou ausência) de outra característica.\n",
    "Aplicação em Classificação\n",
    "\n",
    "Naive Bayes é frequentemente usado em tarefas de classificação. Aqui, o objetivo é encontrar a probabilidade de uma etiqueta de classe dado um conjunto de características. Isso é feito calculando a probabilidade posterior de cada classe com base nas características de entrada e escolhendo a classe com a maior probabilidade posterior.\n",
    "Variações do Naive Bayes\n",
    "\n",
    "Existem diferentes tipos de modelos Naive Bayes, dependendo da distribuição dos dados:\n",
    "\n",
    "    Gaussian Naive Bayes: Assume que as características seguem uma distribuição normal (gaussiana).\n",
    "    Multinomial Naive Bayes: Usado geralmente em classificação de texto, onde as características são geralmente as contagens das palavras ou frequências dos termos.\n",
    "    Bernoulli Naive Bayes: Usado em casos onde as características são binárias."
   ]
  },
  {
   "cell_type": "markdown",
   "id": "16bef6e2",
   "metadata": {},
   "source": [
    "### Vantagens\n",
    "* Simplicidade e Eficiência: É fácil de implementar e rápido em comparação com métodos mais sofisticados.\n",
    "* Bom Desempenho com Datasets Pequenos: Funciona bem mesmo com uma pequena quantidade de dados de treinamento.\n",
    "* Eficiente em Datasets de Alta Dimensão: Funciona bem com muitas características."
   ]
  },
  {
   "cell_type": "markdown",
   "id": "90d0c52f",
   "metadata": {},
   "source": [
    "### Desvantagens\n",
    "* Suposição de Independência: A suposição de independência entre os atributos raramente acontece na prática.\n",
    "* Sensibilidade a Dados Não Representativos: O modelo pode ter um desempenho ruim se o dataset de treinamento não representar bem as reais distribuições dos dados.\n",
    "* Limitações na Estimação de Probabilidade: Quando as probabilidades são zero para algumas características, isso pode afetar negativamente a performance do modelo."
   ]
  },
  {
   "cell_type": "markdown",
   "id": "da0629b7",
   "metadata": {},
   "source": [
    "### Exemplo de código"
   ]
  },
  {
   "cell_type": "code",
   "execution_count": 2,
   "id": "8ae2b4d5",
   "metadata": {},
   "outputs": [],
   "source": [
    "from sklearn.datasets import load_breast_cancer\n",
    "from sklearn.naive_bayes import GaussianNB\n",
    "from sklearn.model_selection import train_test_split\n",
    "from sklearn.metrics import confusion_matrix, classification_report\n",
    "from sklearn.preprocessing import StandardScaler\n"
   ]
  },
  {
   "cell_type": "code",
   "execution_count": 3,
   "id": "5648050f",
   "metadata": {},
   "outputs": [],
   "source": [
    "cancer_data = load_breast_cancer()\n",
    "X = cancer_data.data\n",
    "y = cancer_data.target"
   ]
  },
  {
   "cell_type": "code",
   "execution_count": 4,
   "id": "fd3bcd6b",
   "metadata": {},
   "outputs": [],
   "source": [
    "scaler = StandardScaler()\n",
    "X_scaled = scaler.fit_transform(X)"
   ]
  },
  {
   "cell_type": "code",
   "execution_count": 5,
   "id": "0db668c8",
   "metadata": {},
   "outputs": [],
   "source": [
    "X_train, X_test, y_train, y_test = train_test_split(X_scaled, y, test_size=0.3, random_state=42)"
   ]
  },
  {
   "cell_type": "code",
   "execution_count": 6,
   "id": "574d4c81",
   "metadata": {},
   "outputs": [
    {
     "data": {
      "text/html": [
       "<style>#sk-container-id-1 {color: black;}#sk-container-id-1 pre{padding: 0;}#sk-container-id-1 div.sk-toggleable {background-color: white;}#sk-container-id-1 label.sk-toggleable__label {cursor: pointer;display: block;width: 100%;margin-bottom: 0;padding: 0.3em;box-sizing: border-box;text-align: center;}#sk-container-id-1 label.sk-toggleable__label-arrow:before {content: \"▸\";float: left;margin-right: 0.25em;color: #696969;}#sk-container-id-1 label.sk-toggleable__label-arrow:hover:before {color: black;}#sk-container-id-1 div.sk-estimator:hover label.sk-toggleable__label-arrow:before {color: black;}#sk-container-id-1 div.sk-toggleable__content {max-height: 0;max-width: 0;overflow: hidden;text-align: left;background-color: #f0f8ff;}#sk-container-id-1 div.sk-toggleable__content pre {margin: 0.2em;color: black;border-radius: 0.25em;background-color: #f0f8ff;}#sk-container-id-1 input.sk-toggleable__control:checked~div.sk-toggleable__content {max-height: 200px;max-width: 100%;overflow: auto;}#sk-container-id-1 input.sk-toggleable__control:checked~label.sk-toggleable__label-arrow:before {content: \"▾\";}#sk-container-id-1 div.sk-estimator input.sk-toggleable__control:checked~label.sk-toggleable__label {background-color: #d4ebff;}#sk-container-id-1 div.sk-label input.sk-toggleable__control:checked~label.sk-toggleable__label {background-color: #d4ebff;}#sk-container-id-1 input.sk-hidden--visually {border: 0;clip: rect(1px 1px 1px 1px);clip: rect(1px, 1px, 1px, 1px);height: 1px;margin: -1px;overflow: hidden;padding: 0;position: absolute;width: 1px;}#sk-container-id-1 div.sk-estimator {font-family: monospace;background-color: #f0f8ff;border: 1px dotted black;border-radius: 0.25em;box-sizing: border-box;margin-bottom: 0.5em;}#sk-container-id-1 div.sk-estimator:hover {background-color: #d4ebff;}#sk-container-id-1 div.sk-parallel-item::after {content: \"\";width: 100%;border-bottom: 1px solid gray;flex-grow: 1;}#sk-container-id-1 div.sk-label:hover label.sk-toggleable__label {background-color: #d4ebff;}#sk-container-id-1 div.sk-serial::before {content: \"\";position: absolute;border-left: 1px solid gray;box-sizing: border-box;top: 0;bottom: 0;left: 50%;z-index: 0;}#sk-container-id-1 div.sk-serial {display: flex;flex-direction: column;align-items: center;background-color: white;padding-right: 0.2em;padding-left: 0.2em;position: relative;}#sk-container-id-1 div.sk-item {position: relative;z-index: 1;}#sk-container-id-1 div.sk-parallel {display: flex;align-items: stretch;justify-content: center;background-color: white;position: relative;}#sk-container-id-1 div.sk-item::before, #sk-container-id-1 div.sk-parallel-item::before {content: \"\";position: absolute;border-left: 1px solid gray;box-sizing: border-box;top: 0;bottom: 0;left: 50%;z-index: -1;}#sk-container-id-1 div.sk-parallel-item {display: flex;flex-direction: column;z-index: 1;position: relative;background-color: white;}#sk-container-id-1 div.sk-parallel-item:first-child::after {align-self: flex-end;width: 50%;}#sk-container-id-1 div.sk-parallel-item:last-child::after {align-self: flex-start;width: 50%;}#sk-container-id-1 div.sk-parallel-item:only-child::after {width: 0;}#sk-container-id-1 div.sk-dashed-wrapped {border: 1px dashed gray;margin: 0 0.4em 0.5em 0.4em;box-sizing: border-box;padding-bottom: 0.4em;background-color: white;}#sk-container-id-1 div.sk-label label {font-family: monospace;font-weight: bold;display: inline-block;line-height: 1.2em;}#sk-container-id-1 div.sk-label-container {text-align: center;}#sk-container-id-1 div.sk-container {/* jupyter's `normalize.less` sets `[hidden] { display: none; }` but bootstrap.min.css set `[hidden] { display: none !important; }` so we also need the `!important` here to be able to override the default hidden behavior on the sphinx rendered scikit-learn.org. See: https://github.com/scikit-learn/scikit-learn/issues/21755 */display: inline-block !important;position: relative;}#sk-container-id-1 div.sk-text-repr-fallback {display: none;}</style><div id=\"sk-container-id-1\" class=\"sk-top-container\"><div class=\"sk-text-repr-fallback\"><pre>GaussianNB()</pre><b>In a Jupyter environment, please rerun this cell to show the HTML representation or trust the notebook. <br />On GitHub, the HTML representation is unable to render, please try loading this page with nbviewer.org.</b></div><div class=\"sk-container\" hidden><div class=\"sk-item\"><div class=\"sk-estimator sk-toggleable\"><input class=\"sk-toggleable__control sk-hidden--visually\" id=\"sk-estimator-id-1\" type=\"checkbox\" checked><label for=\"sk-estimator-id-1\" class=\"sk-toggleable__label sk-toggleable__label-arrow\">GaussianNB</label><div class=\"sk-toggleable__content\"><pre>GaussianNB()</pre></div></div></div></div></div>"
      ],
      "text/plain": [
       "GaussianNB()"
      ]
     },
     "execution_count": 6,
     "metadata": {},
     "output_type": "execute_result"
    }
   ],
   "source": [
    "nb_model = GaussianNB()\n",
    "nb_model.fit(X_train, y_train)"
   ]
  },
  {
   "cell_type": "code",
   "execution_count": 7,
   "id": "1f060767",
   "metadata": {},
   "outputs": [
    {
     "name": "stdout",
     "output_type": "stream",
     "text": [
      "[[ 57   6]\n",
      " [  5 103]]\n",
      "              precision    recall  f1-score   support\n",
      "\n",
      "           0       0.92      0.90      0.91        63\n",
      "           1       0.94      0.95      0.95       108\n",
      "\n",
      "    accuracy                           0.94       171\n",
      "   macro avg       0.93      0.93      0.93       171\n",
      "weighted avg       0.94      0.94      0.94       171\n",
      "\n"
     ]
    }
   ],
   "source": [
    "y_pred = nb_model.predict(X_test)\n",
    "\n",
    "# Matriz de Confusão e Relatório de Classificação\n",
    "print(confusion_matrix(y_test, y_pred))\n",
    "print(classification_report(y_test, y_pred))"
   ]
  },
  {
   "cell_type": "code",
   "execution_count": null,
   "id": "1b9e3620",
   "metadata": {},
   "outputs": [],
   "source": []
  }
 ],
 "metadata": {
  "kernelspec": {
   "display_name": "Python 3 (ipykernel)",
   "language": "python",
   "name": "python3"
  },
  "language_info": {
   "codemirror_mode": {
    "name": "ipython",
    "version": 3
   },
   "file_extension": ".py",
   "mimetype": "text/x-python",
   "name": "python",
   "nbconvert_exporter": "python",
   "pygments_lexer": "ipython3",
   "version": "3.11.6"
  }
 },
 "nbformat": 4,
 "nbformat_minor": 5
}
