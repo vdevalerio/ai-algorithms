{
 "cells": [
  {
   "cell_type": "markdown",
   "id": "aa97bb03",
   "metadata": {},
   "source": [
    "# Redes Neurais Convolucionais (Convolutional Neural Networks - CNN)\n",
    "# Redes Neurais Convolucionais (CNNs) são um tipo de rede neural profunda projetada para processar dados que têm uma grade-like topology, como imagens (que podem ser vistas como uma grade de pixels). As CNNs são fundamentais no campo do processamento de imagens e visão computacional."
   ]
  },
  {
   "cell_type": "markdown",
   "id": "04870c68",
   "metadata": {},
   "source": [
    "## Como funciona\n",
    "* Camadas Convolucionais: Estas camadas aplicam um número de filtros à imagem de entrada para criar um mapa de características. Estes filtros ajudam a CNN a identificar padrões, como bordas, texturas, ou formas complexas.\n",
    "\n",
    "* Função de Ativação: Geralmente, após cada operação de convolução, uma função de ativação (como ReLU) é aplicada para introduzir não-linearidades no modelo, permitindo-lhe aprender padrões mais complexos.\n",
    "\n",
    "* Pooling: As camadas de pooling são usadas para reduzir as dimensões espaciais (largura e altura) do mapa de características, ajudando a diminuir a quantidade de parâmetros e cálculos na rede.\n",
    "\n",
    "* Camadas Densas (Fully Connected Layers): Após várias camadas convolucionais e de pooling, a rede utiliza camadas densas onde cada entrada está conectada a cada saída. Estas camadas são usadas para classificar os recursos extraídos pelas camadas convolucionais e de pooling em categorias.\n",
    "\n",
    "* Output: A última camada densa utiliza uma função de ativação como softmax (para classificação multiclasse) para produzir as probabilidades de cada classe."
   ]
  },
  {
   "cell_type": "markdown",
   "id": "a351fee5",
   "metadata": {},
   "source": [
    "### Vantagens\n",
    "* Eficiência no Processamento de Imagens: As CNNs podem capturar automaticamente e aprender características importantes das imagens, o que as torna extremamente eficientes para tarefas de processamento de imagens e visão computacional.\n",
    "\n",
    "* Requer Menos Pré-processamento: Ao contrário de outros algoritmos de classificação, as CNNs não exigem tanto pré-processamento dos dados. Elas são capazes de aprender os filtros e características por conta própria.\n",
    "\n",
    "* Robustez a Variações Espaciais: As CNNs são robustas a variações e distorções espaciais nas imagens, como rotação ou escala."
   ]
  },
  {
   "cell_type": "markdown",
   "id": "fd09ca28",
   "metadata": {},
   "source": [
    "### Desvantagens\n",
    "* Grande Quantidade de Dados Necessária: Para que as CNNs aprendam eficientemente, uma grande quantidade de dados de treinamento é geralmente necessária.\n",
    "\n",
    "* Complexidade Computacional: As CNNs podem ser bastante complexas e exigir um poder computacional significativo, especialmente para tarefas mais complexas.\n",
    "\n",
    "* Risco de Sobreajuste: Em datasets menores, as CNNs correm o risco de sobreajustar os dados de treinamento."
   ]
  },
  {
   "cell_type": "markdown",
   "id": "6ba3a4db",
   "metadata": {},
   "source": [
    "#### Exemplo de código com CNN"
   ]
  },
  {
   "cell_type": "code",
   "execution_count": 5,
   "id": "38d20d7b",
   "metadata": {},
   "outputs": [],
   "source": [
    "from keras.datasets import cifar10\n",
    "from keras.models import Sequential\n",
    "from keras.layers import Conv2D, MaxPooling2D, Flatten, Dense, Dropout\n",
    "from keras.utils import to_categorical"
   ]
  },
  {
   "cell_type": "code",
   "execution_count": 6,
   "id": "62a139f8",
   "metadata": {},
   "outputs": [
    {
     "name": "stdout",
     "output_type": "stream",
     "text": [
      "Downloading data from https://www.cs.toronto.edu/~kriz/cifar-10-python.tar.gz\n",
      "170498071/170498071 [==============================] - 17s 0us/step\n"
     ]
    }
   ],
   "source": [
    "(X_train, y_train), (X_test, y_test) = cifar10.load_data()\n",
    "X_train = X_train.astype('float32') / 255.0\n",
    "X_test = X_test.astype('float32') / 255.0\n",
    "y_train = to_categorical(y_train, 10)\n",
    "y_test = to_categorical(y_test, 10)\n"
   ]
  },
  {
   "cell_type": "markdown",
   "id": "1aaab436",
   "metadata": {},
   "source": [
    "#### Construção do modelo"
   ]
  },
  {
   "cell_type": "code",
   "execution_count": 7,
   "id": "f8f1d151",
   "metadata": {},
   "outputs": [
    {
     "name": "stderr",
     "output_type": "stream",
     "text": [
      "2023-12-03 15:09:39.883557: I tensorflow/core/common_runtime/process_util.cc:146] Creating new thread pool with default inter op setting: 2. Tune using inter_op_parallelism_threads for best performance.\n"
     ]
    }
   ],
   "source": [
    "model = Sequential()\n",
    "model.add(Conv2D(32, (3, 3), activation='relu', input_shape=(32, 32, 3)))\n",
    "model.add(MaxPooling2D((2, 2)))\n",
    "model.add(Conv2D(64, (3, 3), activation='relu'))\n",
    "model.add(MaxPooling2D((2, 2)))\n",
    "model.add(Flatten())\n",
    "model.add(Dense(64, activation='relu'))\n",
    "model.add(Dense(10, activation='softmax'))"
   ]
  },
  {
   "cell_type": "code",
   "execution_count": 8,
   "id": "c4b4d8f4",
   "metadata": {},
   "outputs": [
    {
     "name": "stdout",
     "output_type": "stream",
     "text": [
      "Epoch 1/10\n",
      "782/782 [==============================] - 733s 937ms/step - loss: 1.5013 - accuracy: 0.4631 - val_loss: 1.3591 - val_accuracy: 0.5271\n",
      "Epoch 2/10\n",
      "782/782 [==============================] - 1379s 2s/step - loss: 1.1581 - accuracy: 0.5944 - val_loss: 1.0535 - val_accuracy: 0.6327\n",
      "Epoch 3/10\n",
      "782/782 [==============================] - 1338s 2s/step - loss: 1.0171 - accuracy: 0.6461 - val_loss: 1.0526 - val_accuracy: 0.6381\n",
      "Epoch 4/10\n",
      "782/782 [==============================] - 1241s 2s/step - loss: 0.9400 - accuracy: 0.6728 - val_loss: 0.9603 - val_accuracy: 0.6686\n",
      "Epoch 5/10\n",
      "782/782 [==============================] - 1175s 2s/step - loss: 0.8873 - accuracy: 0.6900 - val_loss: 0.9405 - val_accuracy: 0.6740\n",
      "Epoch 6/10\n",
      "782/782 [==============================] - 1179s 2s/step - loss: 0.8328 - accuracy: 0.7091 - val_loss: 0.8973 - val_accuracy: 0.6906\n",
      "Epoch 7/10\n",
      "782/782 [==============================] - 1219s 2s/step - loss: 0.7857 - accuracy: 0.7266 - val_loss: 0.9865 - val_accuracy: 0.6636\n",
      "Epoch 8/10\n",
      "782/782 [==============================] - 572s 730ms/step - loss: 0.7487 - accuracy: 0.7382 - val_loss: 0.9171 - val_accuracy: 0.6915\n",
      "Epoch 9/10\n",
      "782/782 [==============================] - 564s 721ms/step - loss: 0.7052 - accuracy: 0.7526 - val_loss: 0.9084 - val_accuracy: 0.6905\n",
      "Epoch 10/10\n",
      "782/782 [==============================] - 1000s 1s/step - loss: 0.6766 - accuracy: 0.7629 - val_loss: 0.9099 - val_accuracy: 0.6982\n"
     ]
    },
    {
     "data": {
      "text/plain": [
       "<keras.src.callbacks.History at 0x7f81fe3ac8d0>"
      ]
     },
     "execution_count": 8,
     "metadata": {},
     "output_type": "execute_result"
    }
   ],
   "source": [
    "model.compile(optimizer='adam', loss='categorical_crossentropy', metrics=['accuracy'])\n",
    "model.fit(X_train, y_train, epochs=10, batch_size=64, validation_data=(X_test, y_test))"
   ]
  },
  {
   "cell_type": "code",
   "execution_count": 10,
   "id": "786396d4",
   "metadata": {},
   "outputs": [
    {
     "name": "stdout",
     "output_type": "stream",
     "text": [
      "313/313 [==============================] - 35s 113ms/step - loss: 0.9099 - accuracy: 0.6982\n",
      "Accuracy: 69.82\n"
     ]
    }
   ],
   "source": [
    "_, accuracy = model.evaluate(X_test, y_test)\n",
    "print('Accuracy: %.2f' % (accuracy * 100))"
   ]
  },
  {
   "cell_type": "code",
   "execution_count": null,
   "id": "d9210f1d",
   "metadata": {},
   "outputs": [],
   "source": []
  }
 ],
 "metadata": {
  "kernelspec": {
   "display_name": "Python 3 (ipykernel)",
   "language": "python",
   "name": "python3"
  },
  "language_info": {
   "codemirror_mode": {
    "name": "ipython",
    "version": 3
   },
   "file_extension": ".py",
   "mimetype": "text/x-python",
   "name": "python",
   "nbconvert_exporter": "python",
   "pygments_lexer": "ipython3",
   "version": "3.11.6"
  }
 },
 "nbformat": 4,
 "nbformat_minor": 5
}
