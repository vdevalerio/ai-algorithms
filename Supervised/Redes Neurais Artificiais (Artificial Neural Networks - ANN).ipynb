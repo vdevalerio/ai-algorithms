{
 "cells": [
  {
   "cell_type": "markdown",
   "id": "35617782",
   "metadata": {},
   "source": [
    "# Redes Neurais Artificiais (Artificial Neural Networks - ANN)\n",
    "# Redes Neurais Artificiais (ANNs) são sistemas de computação inspirados no funcionamento do cérebro humano. Elas são formadas por um grande número de unidades de processamento interligadas (neurônios), trabalhando em conjunto para resolver problemas específicos. ANNs são usadas em uma variedade de aplicações, incluindo reconhecimento de voz, visão computacional e previsão de séries temporais."
   ]
  },
  {
   "cell_type": "markdown",
   "id": "0176eff4",
   "metadata": {},
   "source": [
    "## Como funciona\n",
    "* Neurônios e Camadas: Uma ANN consiste em camadas de neurônios, incluindo uma camada de entrada, uma ou mais camadas ocultas e uma camada de saída. Cada neurônio em uma camada está conectado a vários neurônios na camada seguinte.\n",
    "\n",
    "* Pesos e Bias: Cada conexão entre neurônios tem um peso associado que ajusta a importância da entrada. Cada neurônio também tem um bias, que ajusta a saída do neurônio junto com a soma ponderada das entradas.\n",
    "\n",
    "* Função de Ativação: A saída de cada neurônio é transformada por uma função de ativação. Funções comuns incluem a sigmóide, tanh e ReLU.\n",
    "\n",
    "* Propagação para Frente e Retropropagação: Durante o treinamento, a rede realiza uma propagação para frente dos dados de entrada, passando por cada camada até gerar uma saída. O erro é calculado comparando a saída com o valor esperado. A retropropagação é então usada para ajustar os pesos e bias para minimizar o erro."
   ]
  },
  {
   "cell_type": "markdown",
   "id": "5eabf41a",
   "metadata": {},
   "source": [
    "### Vantagens\n",
    "\n",
    "* Modelagem de Relações Complexas: As ANNs são capazes de modelar relações não lineares complexas entre entradas e saídas, tornando-as adequadas para uma ampla gama de aplicações.\n",
    "\n",
    "* Adaptabilidade: Elas podem se adaptar a novos dados ou mudanças nos dados existentes através do ajuste dos pesos.\n",
    "\n",
    "* Generalização: Uma vez treinadas, as ANNs são capazes de generalizar a partir dos dados de treinamento para lidar com novos dados de entrada."
   ]
  },
  {
   "cell_type": "markdown",
   "id": "8139ca38",
   "metadata": {},
   "source": [
    "### Desvantagens\n",
    "* Requerem Grande Quantidade de Dados: Para que uma ANN aprenda eficazmente, é geralmente necessária uma grande quantidade de dados de treinamento.\n",
    "* Custo Computacional: O treinamento de ANNs pode ser intensivo em termos de computação, especialmente para redes grandes e datasets complexos.\n",
    "* Risco de Sobreajuste: ANNs com muitos parâmetros podem sobreajustar os dados de treinamento, o que prejudica a performance em dados novos ou não vistos."
   ]
  },
  {
   "cell_type": "markdown",
   "id": "ba5b827b",
   "metadata": {},
   "source": [
    "#### Exemplo de código ANN"
   ]
  },
  {
   "cell_type": "code",
   "execution_count": 1,
   "id": "58b6f8d4",
   "metadata": {},
   "outputs": [
    {
     "name": "stderr",
     "output_type": "stream",
     "text": [
      "2023-12-03 15:27:27.111738: I tensorflow/core/platform/cpu_feature_guard.cc:182] This TensorFlow binary is optimized to use available CPU instructions in performance-critical operations.\n",
      "To enable the following instructions: SSE3 SSE4.1 SSE4.2 AVX AVX2 FMA, in other operations, rebuild TensorFlow with the appropriate compiler flags.\n"
     ]
    }
   ],
   "source": [
    "from keras.datasets import boston_housing\n",
    "from keras.models import Sequential\n",
    "from keras.layers import Dense\n",
    "from sklearn.preprocessing import StandardScaler"
   ]
  },
  {
   "cell_type": "code",
   "execution_count": 2,
   "id": "a1adbd22",
   "metadata": {},
   "outputs": [
    {
     "name": "stdout",
     "output_type": "stream",
     "text": [
      "Downloading data from https://storage.googleapis.com/tensorflow/tf-keras-datasets/boston_housing.npz\n",
      "57026/57026 [==============================] - 0s 2us/step\n"
     ]
    }
   ],
   "source": [
    "(X_train, y_train), (X_test, y_test) = boston_housing.load_data()\n",
    "scaler = StandardScaler()\n",
    "X_train_scaled = scaler.fit_transform(X_train)\n",
    "X_test_scaled = scaler.transform(X_test)"
   ]
  },
  {
   "cell_type": "code",
   "execution_count": 3,
   "id": "27b6e80c",
   "metadata": {},
   "outputs": [
    {
     "name": "stderr",
     "output_type": "stream",
     "text": [
      "2023-12-03 15:27:54.375264: I tensorflow/core/common_runtime/process_util.cc:146] Creating new thread pool with default inter op setting: 2. Tune using inter_op_parallelism_threads for best performance.\n"
     ]
    }
   ],
   "source": [
    "model = Sequential()\n",
    "model.add(Dense(64, activation='relu', input_shape=(X_train.shape[1],)))\n",
    "model.add(Dense(64, activation='relu'))\n",
    "model.add(Dense(1))"
   ]
  },
  {
   "cell_type": "code",
   "execution_count": 5,
   "id": "dd35ebdf",
   "metadata": {},
   "outputs": [
    {
     "data": {
      "text/plain": [
       "<keras.src.callbacks.History at 0x7f73aa94ed50>"
      ]
     },
     "execution_count": 5,
     "metadata": {},
     "output_type": "execute_result"
    }
   ],
   "source": [
    "model.compile(optimizer='rmsprop', loss='mse', metrics=['mae'])\n",
    "model.fit(X_train_scaled, y_train, epochs=50, batch_size=1, verbose=0)\n"
   ]
  },
  {
   "cell_type": "code",
   "execution_count": 6,
   "id": "7480ae02",
   "metadata": {},
   "outputs": [
    {
     "name": "stdout",
     "output_type": "stream",
     "text": [
      "4/4 [==============================] - 1s 30ms/step - loss: 11.2265 - mae: 2.2442\n",
      "Test MAE: 2.24\n"
     ]
    }
   ],
   "source": [
    "_, mae = model.evaluate(X_test_scaled, y_test)\n",
    "print('Test MAE: %.2f' % mae)"
   ]
  },
  {
   "cell_type": "code",
   "execution_count": null,
   "id": "cbd7582c",
   "metadata": {},
   "outputs": [],
   "source": []
  }
 ],
 "metadata": {
  "kernelspec": {
   "display_name": "Python 3 (ipykernel)",
   "language": "python",
   "name": "python3"
  },
  "language_info": {
   "codemirror_mode": {
    "name": "ipython",
    "version": 3
   },
   "file_extension": ".py",
   "mimetype": "text/x-python",
   "name": "python",
   "nbconvert_exporter": "python",
   "pygments_lexer": "ipython3",
   "version": "3.11.6"
  }
 },
 "nbformat": 4,
 "nbformat_minor": 5
}
