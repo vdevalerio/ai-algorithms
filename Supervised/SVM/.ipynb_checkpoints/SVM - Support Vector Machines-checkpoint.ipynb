{
 "cells": [
  {
   "cell_type": "markdown",
   "id": "c666a75a",
   "metadata": {},
   "source": [
    "# Máquinas de Vetores de Suporte (Support Vector Machines - SVM)\n",
    "## SVMs (Support Vector Machines) são modelos de aprendizado de máquina que são utilizados para classificação e regressão. Eles funcionam encontrando o hiperplano que melhor separa diferentes classes de dados. Em espaços de duas dimensões, este hiperplano é uma linha."
   ]
  },
  {
   "cell_type": "markdown",
   "id": "f1ca3c9f",
   "metadata": {},
   "source": [
    "## Como Funciona\n",
    "\n",
    "* Margem Máxima: SVMs tentam maximizar a margem entre as diferentes classes. A margem é a distância entre o hiperplano separador e os pontos de dados mais próximos de cada classe, conhecidos como vetores de suporte.\n",
    "* Kernels: Em casos onde os dados não são linearmente separáveis, SVMs utilizam funções de kernel para transformar os dados em um espaço onde se tornem linearmente separáveis."
   ]
  },
  {
   "cell_type": "markdown",
   "id": "6431685e",
   "metadata": {},
   "source": [
    "![svm.jpg](svm.jpg)"
   ]
  },
  {
   "cell_type": "markdown",
   "id": "331aa032",
   "metadata": {},
   "source": [
    "### Vantagens\n",
    "* Eficaz em Espaços de Grandes Dimensões: SVMs são particularmente eficazes em casos onde o número de dimensões é maior que o número de amostras.\n",
    "* Uso Eficiente de Memória: Utilizam um subconjunto de pontos de treinamento na função de decisão (os chamados vetores de suporte), o que os torna bastante eficientes em termos de memória.\n",
    "* Versatilidade: A função do kernel pode ser adaptada às necessidades específicas dos dados, o que torna o SVM muito versátil. Kernels comuns incluem lineares, polinomiais, RBF (Radial Basis Function) e sigmóides.\n",
    "* Alto Poder de Generalização: A característica de maximização da margem permite que o SVM tenha um bom desempenho de generalização, o que significa que tem uma menor tendência ao sobreajuste."
   ]
  },
  {
   "cell_type": "markdown",
   "id": "47b61e71",
   "metadata": {},
   "source": [
    "### Desvantagens\n",
    "* Não Adequado para Grandes Conjuntos de Dados: Devido à sua complexidade computacional, os SVMs não são a melhor escolha para conjuntos de dados muito grandes.\n",
    "* Escolha do Kernel e Ajuste de Parâmetros: A escolha do kernel e a otimização dos parâmetros do SVM (como o parâmetro C de regularização) podem ser complicadas e requerem uma boa compreensão de como funcionam os SVMs.\n",
    "* Não Fornece Estimativas de Probabilidade Diretamente: SVMs não fornecem estimativas probabilísticas de forma direta, estas são calculadas usando uma validação cruzada cara em termos computacionais.\n",
    "* Sensível à Escala dos Dados: SVMs são sensíveis à escala dos dados de entrada, portanto, geralmente é necessário normalizar os dados antes de aplicar SVM."
   ]
  },
  {
   "cell_type": "markdown",
   "id": "36b908bc",
   "metadata": {},
   "source": [
    "### Aplicações\n",
    "#### Classificação de Imagens:\n",
    "* Reconhecimento de Objetos em Imagens.\n",
    "* Classificação de Características em Imagens Médicas.\n",
    "\n",
    "#### Bioinformática:\n",
    "* Classificação de Proteínas em Bioinformática.\n",
    "* Identificação de Genes Relacionados a Doenças.\n",
    "\n",
    "#### Finanças:\n",
    "* Previsão de Solvência em Análise de Crédito.\n",
    "* Classificação de Títulos Financeiros.\n",
    "\n",
    "#### Medicina:\n",
    "* Diagnóstico de Doenças, como Detecção de Câncer.\n",
    "* Predição de Resposta a Tratamentos.\n",
    "\n",
    "#### Análise de Texto:\n",
    "* Classificação de Documentos e Textos.\n",
    "* Filtragem de Spam em E-mails."
   ]
  },
  {
   "cell_type": "markdown",
   "id": "d8fa459b",
   "metadata": {},
   "source": [
    "### Exemplo de código"
   ]
  },
  {
   "cell_type": "markdown",
   "id": "c92c5d91",
   "metadata": {},
   "source": [
    "#### Importação de Bibliotecas e Dados:"
   ]
  },
  {
   "cell_type": "code",
   "execution_count": 10,
   "id": "5815d482",
   "metadata": {},
   "outputs": [],
   "source": [
    "from sklearn import datasets\n",
    "from sklearn.svm import SVC\n",
    "from sklearn.model_selection import train_test_split\n",
    "from sklearn.metrics import confusion_matrix, classification_report\n",
    "from sklearn.preprocessing import StandardScaler\n",
    "import seaborn as sns\n",
    "import matplotlib.pyplot as plt\n",
    "import numpy as np\n",
    "\n",
    "# Carregando o dataset de dígitos\n",
    "digits = datasets.load_digits()\n",
    "X = digits.data\n",
    "y = digits.target"
   ]
  },
  {
   "cell_type": "markdown",
   "id": "a8d8cc4b",
   "metadata": {},
   "source": [
    "#### Pré-processamento: Normalizar os dados pode ser crucial para o desempenho do SVM."
   ]
  },
  {
   "cell_type": "code",
   "execution_count": 11,
   "id": "04d6a1e9",
   "metadata": {},
   "outputs": [],
   "source": [
    "scaler = StandardScaler()\n",
    "X_scaled = scaler.fit_transform(X)"
   ]
  },
  {
   "cell_type": "markdown",
   "id": "b0e34d3d",
   "metadata": {},
   "source": [
    "#### Divisão do Dataset em Treino e Teste:"
   ]
  },
  {
   "cell_type": "code",
   "execution_count": 12,
   "id": "eca71503",
   "metadata": {},
   "outputs": [],
   "source": [
    "X_train, X_test, y_train, y_test = train_test_split(X_scaled, y, test_size=0.3, random_state=42)"
   ]
  },
  {
   "cell_type": "markdown",
   "id": "d8a70bcb",
   "metadata": {},
   "source": [
    "### Treinamento do Modelo SVM:"
   ]
  },
  {
   "cell_type": "code",
   "execution_count": 13,
   "id": "ce1c0c8a",
   "metadata": {},
   "outputs": [
    {
     "data": {
      "text/html": [
       "<style>#sk-container-id-2 {color: black;}#sk-container-id-2 pre{padding: 0;}#sk-container-id-2 div.sk-toggleable {background-color: white;}#sk-container-id-2 label.sk-toggleable__label {cursor: pointer;display: block;width: 100%;margin-bottom: 0;padding: 0.3em;box-sizing: border-box;text-align: center;}#sk-container-id-2 label.sk-toggleable__label-arrow:before {content: \"▸\";float: left;margin-right: 0.25em;color: #696969;}#sk-container-id-2 label.sk-toggleable__label-arrow:hover:before {color: black;}#sk-container-id-2 div.sk-estimator:hover label.sk-toggleable__label-arrow:before {color: black;}#sk-container-id-2 div.sk-toggleable__content {max-height: 0;max-width: 0;overflow: hidden;text-align: left;background-color: #f0f8ff;}#sk-container-id-2 div.sk-toggleable__content pre {margin: 0.2em;color: black;border-radius: 0.25em;background-color: #f0f8ff;}#sk-container-id-2 input.sk-toggleable__control:checked~div.sk-toggleable__content {max-height: 200px;max-width: 100%;overflow: auto;}#sk-container-id-2 input.sk-toggleable__control:checked~label.sk-toggleable__label-arrow:before {content: \"▾\";}#sk-container-id-2 div.sk-estimator input.sk-toggleable__control:checked~label.sk-toggleable__label {background-color: #d4ebff;}#sk-container-id-2 div.sk-label input.sk-toggleable__control:checked~label.sk-toggleable__label {background-color: #d4ebff;}#sk-container-id-2 input.sk-hidden--visually {border: 0;clip: rect(1px 1px 1px 1px);clip: rect(1px, 1px, 1px, 1px);height: 1px;margin: -1px;overflow: hidden;padding: 0;position: absolute;width: 1px;}#sk-container-id-2 div.sk-estimator {font-family: monospace;background-color: #f0f8ff;border: 1px dotted black;border-radius: 0.25em;box-sizing: border-box;margin-bottom: 0.5em;}#sk-container-id-2 div.sk-estimator:hover {background-color: #d4ebff;}#sk-container-id-2 div.sk-parallel-item::after {content: \"\";width: 100%;border-bottom: 1px solid gray;flex-grow: 1;}#sk-container-id-2 div.sk-label:hover label.sk-toggleable__label {background-color: #d4ebff;}#sk-container-id-2 div.sk-serial::before {content: \"\";position: absolute;border-left: 1px solid gray;box-sizing: border-box;top: 0;bottom: 0;left: 50%;z-index: 0;}#sk-container-id-2 div.sk-serial {display: flex;flex-direction: column;align-items: center;background-color: white;padding-right: 0.2em;padding-left: 0.2em;position: relative;}#sk-container-id-2 div.sk-item {position: relative;z-index: 1;}#sk-container-id-2 div.sk-parallel {display: flex;align-items: stretch;justify-content: center;background-color: white;position: relative;}#sk-container-id-2 div.sk-item::before, #sk-container-id-2 div.sk-parallel-item::before {content: \"\";position: absolute;border-left: 1px solid gray;box-sizing: border-box;top: 0;bottom: 0;left: 50%;z-index: -1;}#sk-container-id-2 div.sk-parallel-item {display: flex;flex-direction: column;z-index: 1;position: relative;background-color: white;}#sk-container-id-2 div.sk-parallel-item:first-child::after {align-self: flex-end;width: 50%;}#sk-container-id-2 div.sk-parallel-item:last-child::after {align-self: flex-start;width: 50%;}#sk-container-id-2 div.sk-parallel-item:only-child::after {width: 0;}#sk-container-id-2 div.sk-dashed-wrapped {border: 1px dashed gray;margin: 0 0.4em 0.5em 0.4em;box-sizing: border-box;padding-bottom: 0.4em;background-color: white;}#sk-container-id-2 div.sk-label label {font-family: monospace;font-weight: bold;display: inline-block;line-height: 1.2em;}#sk-container-id-2 div.sk-label-container {text-align: center;}#sk-container-id-2 div.sk-container {/* jupyter's `normalize.less` sets `[hidden] { display: none; }` but bootstrap.min.css set `[hidden] { display: none !important; }` so we also need the `!important` here to be able to override the default hidden behavior on the sphinx rendered scikit-learn.org. See: https://github.com/scikit-learn/scikit-learn/issues/21755 */display: inline-block !important;position: relative;}#sk-container-id-2 div.sk-text-repr-fallback {display: none;}</style><div id=\"sk-container-id-2\" class=\"sk-top-container\"><div class=\"sk-text-repr-fallback\"><pre>SVC(kernel=&#x27;linear&#x27;, random_state=42)</pre><b>In a Jupyter environment, please rerun this cell to show the HTML representation or trust the notebook. <br />On GitHub, the HTML representation is unable to render, please try loading this page with nbviewer.org.</b></div><div class=\"sk-container\" hidden><div class=\"sk-item\"><div class=\"sk-estimator sk-toggleable\"><input class=\"sk-toggleable__control sk-hidden--visually\" id=\"sk-estimator-id-2\" type=\"checkbox\" checked><label for=\"sk-estimator-id-2\" class=\"sk-toggleable__label sk-toggleable__label-arrow\">SVC</label><div class=\"sk-toggleable__content\"><pre>SVC(kernel=&#x27;linear&#x27;, random_state=42)</pre></div></div></div></div></div>"
      ],
      "text/plain": [
       "SVC(kernel='linear', random_state=42)"
      ]
     },
     "execution_count": 13,
     "metadata": {},
     "output_type": "execute_result"
    }
   ],
   "source": [
    "svm_model = SVC(kernel='linear', random_state=42)\n",
    "svm_model.fit(X_train, y_train)\n"
   ]
  },
  {
   "cell_type": "markdown",
   "id": "118165a3",
   "metadata": {},
   "source": [
    "#### Previsões e Avaliação:"
   ]
  },
  {
   "cell_type": "code",
   "execution_count": 17,
   "id": "0b469e8b",
   "metadata": {},
   "outputs": [
    {
     "name": "stdout",
     "output_type": "stream",
     "text": [
      "[[53  0  0  0  0  0  0  0  0  0]\n",
      " [ 0 49  0  0  0  0  0  0  1  0]\n",
      " [ 0  0 47  0  0  0  0  0  0  0]\n",
      " [ 0  0  1 52  0  1  0  0  0  0]\n",
      " [ 0  0  0  0 60  0  0  0  0  0]\n",
      " [ 0  0  0  1  0 63  1  0  0  1]\n",
      " [ 1  0  0  0  0  0 52  0  0  0]\n",
      " [ 0  0  0  0  0  0  0 54  0  1]\n",
      " [ 0  1  0  0  0  1  0  0 41  0]\n",
      " [ 0  0  0  1  0  0  0  0  1 57]]\n"
     ]
    }
   ],
   "source": [
    "y_pred = svm_model.predict(X_test)\n",
    "\n",
    "# Matriz de Confusão e Relatório de Classificação\n",
    "conf_matrix = confusion_matrix(y_test, y_pred)\n",
    "class_report = classification_report(y_test, y_pred)\n",
    "print(conf_matrix)"
   ]
  },
  {
   "cell_type": "code",
   "execution_count": 16,
   "id": "e0d76d90",
   "metadata": {},
   "outputs": [
    {
     "data": {
      "image/png": "[encoded data removed]",
      "text/plain": [
       "<Figure size 1000x800 with 1 Axes>"
      ]
     },
     "metadata": {},
     "output_type": "display_data"
    }
   ],
   "source": [
    "# Plot Confusion Matrix as a Heatmap with Annotations\n",
    "plt.figure(figsize=(10, 8))\n",
    "sns.heatmap(conf_matrix, annot=True, fmt=\"d\", cmap=\"Blues\", cbar=False, linewidths=.5)\n",
    "plt.title('Confusion Matrix')\n",
    "plt.xlabel('Predicted')\n",
    "plt.ylabel('True')\n",
    "\n",
    "# Add numbers to the heatmap\n",
    "classes = np.unique(y_test)\n",
    "tick_marks = np.arange(len(classes)) + 0.5\n",
    "plt.xticks(tick_marks, classes)\n",
    "plt.yticks(tick_marks, classes)\n",
    "\n",
    "for i in range(len(classes)):\n",
    "    for j in range(len(classes)):\n",
    "        plt.text(j + 0.5, i + 0.5, str(conf_matrix[i, j]), ha='center', va='center', fontsize=10)\n",
    "\n",
    "plt.show()"
   ]
  },
  {
   "cell_type": "code",
   "execution_count": 8,
   "id": "aee23c8c",
   "metadata": {
    "scrolled": true
   },
   "outputs": [
    {
     "name": "stdout",
     "output_type": "stream",
     "text": [
      "              precision    recall  f1-score   support\n",
      "\n",
      "           0       0.98      1.00      0.99        53\n",
      "           1       0.98      0.98      0.98        50\n",
      "           2       0.98      1.00      0.99        47\n",
      "           3       0.96      0.96      0.96        54\n",
      "           4       1.00      1.00      1.00        60\n",
      "           5       0.97      0.95      0.96        66\n",
      "           6       0.98      0.98      0.98        53\n",
      "           7       1.00      0.98      0.99        55\n",
      "           8       0.95      0.95      0.95        43\n",
      "           9       0.97      0.97      0.97        59\n",
      "\n",
      "    accuracy                           0.98       540\n",
      "   macro avg       0.98      0.98      0.98       540\n",
      "weighted avg       0.98      0.98      0.98       540\n",
      "\n"
     ]
    }
   ],
   "source": [
    "print(class_report)"
   ]
  },
  {
   "cell_type": "code",
   "execution_count": null,
   "id": "33e17df9",
   "metadata": {},
   "outputs": [],
   "source": []
  }
 ],
 "metadata": {
  "kernelspec": {
   "display_name": "Python 3 (ipykernel)",
   "language": "python",
   "name": "python3"
  },
  "language_info": {
   "codemirror_mode": {
    "name": "ipython",
    "version": 3
   },
   "file_extension": ".py",
   "mimetype": "text/x-python",
   "name": "python",
   "nbconvert_exporter": "python",
   "pygments_lexer": "ipython3",
   "version": "3.11.6"
  }
 },
 "nbformat": 4,
 "nbformat_minor": 5
}
