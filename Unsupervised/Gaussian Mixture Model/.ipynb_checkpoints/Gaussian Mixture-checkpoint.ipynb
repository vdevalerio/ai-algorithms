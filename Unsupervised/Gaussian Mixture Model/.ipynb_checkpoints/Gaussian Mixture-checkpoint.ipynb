{
 "cells": [
  {
   "cell_type": "markdown",
   "id": "7ef220db",
   "metadata": {
    "slideshow": {
     "slide_type": "slide"
    }
   },
   "source": [
    "# GMM - Gaussian Mixture Model (ou Modelo de Mistura Gaussiana)"
   ]
  },
  {
   "cell_type": "markdown",
   "id": "16167554",
   "metadata": {
    "slideshow": {
     "slide_type": "subslide"
    }
   },
   "source": [
    "## O que é?\n",
    "Um modelo de mistura (mixture model) é uma abordagem estatística que descreve a distribuição de dados como uma mistura de várias distribuições mais simples. Essas distribuições mais simples podem ser gaussianas, de Poisson, exponenciais, entre outras.\n",
    "\n",
    "Em um modelo de mistura, presume-se que os dados observados são gerados por várias subpopulações ou componentes diferentes, cada uma seguindo uma distribuição de probabilidade específica. A ideia é que a distribuição de probabilidade dos dados observados seja uma combinação ponderada das distribuições dessas subpopulações."
   ]
  },
  {
   "cell_type": "markdown",
   "id": "39e36aab",
   "metadata": {},
   "source": []
  },
  {
   "cell_type": "markdown",
   "id": "a6528a55",
   "metadata": {},
   "source": [
    "## "
   ]
  }
 ],
 "metadata": {
  "kernelspec": {
   "display_name": "Python 3 (ipykernel)",
   "language": "python",
   "name": "python3"
  },
  "language_info": {
   "codemirror_mode": {
    "name": "ipython",
    "version": 3
   },
   "file_extension": ".py",
   "mimetype": "text/x-python",
   "name": "python",
   "nbconvert_exporter": "python",
   "pygments_lexer": "ipython3",
   "version": "3.11.5"
  }
 },
 "nbformat": 4,
 "nbformat_minor": 5
}
