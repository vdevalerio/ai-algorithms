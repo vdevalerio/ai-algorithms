{
 "cells": [
  {
   "cell_type": "markdown",
   "id": "7ef220db",
   "metadata": {
    "slideshow": {
     "slide_type": "slide"
    }
   },
   "source": [
    "# GMM - Gaussian Mixture Model (ou Modelo de Mistura Gaussiana)"
   ]
  },
  {
   "cell_type": "markdown",
   "id": "16167554",
   "metadata": {
    "slideshow": {
     "slide_type": "subslide"
    }
   },
   "source": [
    "## O que é?\n",
    "Um modelo de mistura (mixture model) é uma abordagem estatística que descreve a distribuição de dados como uma mistura de várias distribuições mais simples. Essas distribuições mais simples podem ser gaussianas, de Poisson, exponenciais, entre outras.\n",
    "\n",
    "Em um modelo de mistura, presume-se que os dados observados são gerados por várias subpopulações ou componentes diferentes, cada uma seguindo uma distribuição de probabilidade específica. A ideia é que a distribuição de probabilidade dos dados observados seja uma combinação ponderada das distribuições dessas subpopulações."
   ]
  },
  {
   "cell_type": "markdown",
   "id": "39e36aab",
   "metadata": {},
   "source": [
    "![Sample Image](images/gmm-as-gassuian-components.png)\n",
    "From: https://edisciplinas.usp.br/pluginfile.php/5839901/mod_resource/content/1/psi3501GMM.pdf"
   ]
  },
  {
   "cell_type": "markdown",
   "id": "91b676b0",
   "metadata": {},
   "source": [
    "## Aplicações"
   ]
  },
  {
   "cell_type": "markdown",
   "id": "cb51920f",
   "metadata": {},
   "source": [
    "## Vantagens \n",
    "\n",
    "#### Flexibilidade na Modelagem \n",
    "Por ser uma mistura de distribuições gaussianas, o GMM pode se adaptar a diferentes formas de distribuição nos dados, incluindo distribuições multimodais (com múltiplos picos) e complexas.\n",
    "\n",
    "#### Escalabilidade\n",
    "GMMs podem ser escalados para grandes conjuntos de dados, tornando-os úteis em situações onde a quantidade de dados é substancial.\n",
    "\n",
    "#### Flexibilidade no Número de Componentes\n",
    "O GMM permite ajustar o número de componentes (distribuições gaussianas) no modelo, o que é útil quando a quantidade de subpopulações nos dados não é conhecida a priori.\n",
    "\n",
    "#### Soft Assignment \n",
    "Em contraste com muitos métodos de cluster que realizam uma atribuição rígida dos pontos de dados a um único cluster, o GMM oferece uma atribuição \"suave\" ou probabilística, onde os pontos de dados podem pertencer a múltiplos clusters com diferentes graus de pertencimento."
   ]
  },
  {
   "cell_type": "markdown",
   "id": "6fb9ab9e",
   "metadata": {},
   "source": [
    "## Desvantagens"
   ]
  },
  {
   "cell_type": "markdown",
   "id": "cf069923",
   "metadata": {},
   "source": [
    "## Exemplo de Código"
   ]
  },
  {
   "cell_type": "markdown",
   "id": "a6528a55",
   "metadata": {},
   "source": [
    "## "
   ]
  }
 ],
 "metadata": {
  "kernelspec": {
   "display_name": "Python 3 (ipykernel)",
   "language": "python",
   "name": "python3"
  },
  "language_info": {
   "codemirror_mode": {
    "name": "ipython",
    "version": 3
   },
   "file_extension": ".py",
   "mimetype": "text/x-python",
   "name": "python",
   "nbconvert_exporter": "python",
   "pygments_lexer": "ipython3",
   "version": "3.11.5"
  }
 },
 "nbformat": 4,
 "nbformat_minor": 5
}
