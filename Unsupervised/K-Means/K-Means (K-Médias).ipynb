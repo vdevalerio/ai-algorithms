{
 "cells": [
  {
   "cell_type": "markdown",
   "id": "a3f1adef",
   "metadata": {
    "slideshow": {
     "slide_type": "slide"
    }
   },
   "source": [
    "# K-Means"
   ]
  },
  {
   "cell_type": "markdown",
   "id": "d48fe969",
   "metadata": {
    "slideshow": {
     "slide_type": "slide"
    }
   },
   "source": [
    "## O que é ?"
   ]
  },
  {
   "cell_type": "markdown",
   "id": "d5e4f5fe",
   "metadata": {
    "slideshow": {
     "slide_type": "fragment"
    }
   },
   "source": [
    "- Algoritmo de Agrupramento (Clustering)"
   ]
  },
  {
   "cell_type": "markdown",
   "id": "bb30f2a3",
   "metadata": {
    "slideshow": {
     "slide_type": "fragment"
    }
   },
   "source": [
    "- Minimizar a variação dentro de cada grupo"
   ]
  },
  {
   "cell_type": "markdown",
   "id": "0a9f8c43",
   "metadata": {
    "slideshow": {
     "slide_type": "fragment"
    }
   },
   "source": [
    "- Maximizar a variação entre grupos diferentes"
   ]
  },
  {
   "cell_type": "markdown",
   "id": "0cdb7b90",
   "metadata": {
    "slideshow": {
     "slide_type": "fragment"
    }
   },
   "source": [
    "- Minimizar a Inércia (ou  Critério da Soma dos Quadrados)\n",
    "    - $$ \\sum_{i=0}^{n}\\min_{\\mu_j \\in C}(||x_i - \\mu_j||^2) $$"
   ]
  },
  {
   "cell_type": "markdown",
   "id": "1f21a13c",
   "metadata": {
    "slideshow": {
     "slide_type": "slide"
    }
   },
   "source": [
    "## Como funciona"
   ]
  },
  {
   "cell_type": "markdown",
   "id": "ca2572e6",
   "metadata": {
    "slideshow": {
     "slide_type": "fragment"
    }
   },
   "source": [
    "- Escolha Inicial de Centroides"
   ]
  },
  {
   "cell_type": "markdown",
   "id": "59b41a74",
   "metadata": {
    "slideshow": {
     "slide_type": "notes"
    }
   },
   "source": [
    "O algoritmo começa escolhendo KK pontos aleatórios do dataset como centroides iniciais dos clusters."
   ]
  },
  {
   "cell_type": "markdown",
   "id": "5adea4b9",
   "metadata": {
    "slideshow": {
     "slide_type": "fragment"
    }
   },
   "source": [
    "- Atribuição de Dados aos Clusters"
   ]
  },
  {
   "cell_type": "markdown",
   "id": "0e2321b1",
   "metadata": {
    "slideshow": {
     "slide_type": "notes"
    }
   },
   "source": [
    "Cada ponto de dados é atribuído ao cluster cujo centroide é o mais próximo, com base em alguma medida de distância (geralmente a distância euclidiana)."
   ]
  },
  {
   "cell_type": "markdown",
   "id": "93936748",
   "metadata": {
    "slideshow": {
     "slide_type": "fragment"
    }
   },
   "source": [
    "- Atualização dos Centroides"
   ]
  },
  {
   "cell_type": "markdown",
   "id": "fa7b0d7d",
   "metadata": {
    "slideshow": {
     "slide_type": "notes"
    }
   },
   "source": [
    "Após todos os pontos serem atribuídos a um cluster, os centroides são recalculados como a média de todos os pontos no cluster."
   ]
  },
  {
   "cell_type": "markdown",
   "id": "d67a0abe",
   "metadata": {
    "slideshow": {
     "slide_type": "fragment"
    }
   },
   "source": [
    "- Iteração"
   ]
  },
  {
   "cell_type": "markdown",
   "id": "c6061415",
   "metadata": {
    "slideshow": {
     "slide_type": "notes"
    }
   },
   "source": [
    "Os passos 2 e 3 são repetidos até que os centroides não mudem significativamente entre iterações, indicando que os clusters foram estabilizados."
   ]
  },
  {
   "cell_type": "markdown",
   "id": "bc68e8e7",
   "metadata": {
    "slideshow": {
     "slide_type": "slide"
    }
   },
   "source": [
    "## Aplicações"
   ]
  },
  {
   "cell_type": "markdown",
   "id": "24889d8e",
   "metadata": {
    "slideshow": {
     "slide_type": "subslide"
    }
   },
   "source": [
    "- Segmentação de Mercado:\n",
    "    * Identificação de Grupos de Consumidores com Comportamentos Semelhantes.\n",
    "    * Personalização de Estratégias de Marketing.\n",
    "\n",
    "- Análise de Imagens:\n",
    "    * Compressão de Imagens por Agrupamento de Pixels Semelhantes.\n",
    "    * Segmentação de Regiões em Imagens Médicas.\n",
    "\n",
    "- Agrupamento de Documentos:\n",
    "    * Organização de Documentos em Categorias Temáticas.\n",
    "    * Análise de Tópicos em Grandes Conjuntos de Textos."
   ]
  },
  {
   "cell_type": "markdown",
   "id": "1046ea58",
   "metadata": {
    "slideshow": {
     "slide_type": "subslide"
    }
   },
   "source": [
    "- Sensoriamento Remoto:\n",
    "    * Agrupamento de Dados de Satélites para Identificação de Padrões Geográficos.\n",
    "    * Classificação de Terrenos e Coberturas Terrestres.\n",
    "    \n",
    "- Monitoramento de Rede:\n",
    "    * Detecção de Anomalias em Tráfego de Rede.\n",
    "    * Agrupamento de Dispositivos com Comportamentos Semelhantes."
   ]
  },
  {
   "cell_type": "markdown",
   "id": "efa13c10",
   "metadata": {
    "slideshow": {
     "slide_type": "slide"
    }
   },
   "source": [
    "## Vantagens"
   ]
  },
  {
   "cell_type": "markdown",
   "id": "7e1d7dc7",
   "metadata": {
    "slideshow": {
     "slide_type": "subslide"
    }
   },
   "source": [
    "### Simplicidade e Eficiência\n",
    "K-Means é fácil de implementar e entender. É eficiente em termos de tempo de execução, especialmente em grandes conjuntos de dados."
   ]
  },
  {
   "cell_type": "markdown",
   "id": "71b3bae2",
   "metadata": {
    "slideshow": {
     "slide_type": "subslide"
    }
   },
   "source": [
    "### Adaptação a Diferentes Tipos de Dados\n",
    "Pode ser aplicado a uma ampla variedade de tipos de dados e é útil em muitos domínios diferentes."
   ]
  },
  {
   "cell_type": "markdown",
   "id": "7f237973",
   "metadata": {
    "slideshow": {
     "slide_type": "subslide"
    }
   },
   "source": [
    "### Identificação de Clusters Naturalmente Formados \n",
    "É eficaz na identificação de clusters naturais dentro dos dados."
   ]
  },
  {
   "cell_type": "markdown",
   "id": "044e0dbe",
   "metadata": {
    "slideshow": {
     "slide_type": "slide"
    }
   },
   "source": [
    "## Desvantagens"
   ]
  },
  {
   "cell_type": "markdown",
   "id": "3634d653",
   "metadata": {
    "slideshow": {
     "slide_type": "subslide"
    }
   },
   "source": [
    "### Escolha de KK\n",
    "Determinar o número correto de clusters (KK) nem sempre é fácil e pode requerer várias execuções com diferentes valores de KK."
   ]
  },
  {
   "cell_type": "markdown",
   "id": "50618d9d",
   "metadata": {
    "slideshow": {
     "slide_type": "subslide"
    }
   },
   "source": [
    "### Sensibilidade a Inicializações\n",
    "Os resultados podem variar com diferentes inicializações de centroides, o que pode levar a uma convergência para ótimos locais."
   ]
  },
  {
   "cell_type": "markdown",
   "id": "9d0816a8",
   "metadata": {
    "slideshow": {
     "slide_type": "subslide"
    }
   },
   "source": [
    "### Sensível a Outliers\n",
    "K-Means é sensível a outliers, pois eles podem distorcer a média de um cluster."
   ]
  },
  {
   "cell_type": "markdown",
   "id": "854eeab8",
   "metadata": {
    "slideshow": {
     "slide_type": "subslide"
    }
   },
   "source": [
    "### Limitação a Formas de Cluster \n",
    "Assume que os clusters são esféricos e de tamanho similar, o que pode não ser adequado para alguns conjuntos de dados."
   ]
  },
  {
   "cell_type": "markdown",
   "id": "99b2dfc0",
   "metadata": {
    "slideshow": {
     "slide_type": "slide"
    }
   },
   "source": [
    "## Exemplos de Código"
   ]
  },
  {
   "cell_type": "markdown",
   "id": "d960a5f0",
   "metadata": {
    "slideshow": {
     "slide_type": "slide"
    }
   },
   "source": [
    "### Conjunto de Dados Dígitos Manuscritos"
   ]
  },
  {
   "cell_type": "code",
   "execution_count": 1,
   "id": "baf0713a",
   "metadata": {
    "slideshow": {
     "slide_type": "subslide"
    }
   },
   "outputs": [],
   "source": [
    "# Realiza as importações necessárias\n",
    "import numpy as np\n",
    "import matplotlib.pyplot as plt\n",
    "\n",
    "from time import time\n",
    "from sklearn import metrics\n",
    "from sklearn.pipeline import make_pipeline\n",
    "from sklearn.preprocessing import StandardScaler\n",
    "from sklearn.datasets import load_digits\n",
    "from sklearn.cluster import KMeans\n",
    "from sklearn.decomposition import PCA"
   ]
  },
  {
   "cell_type": "code",
   "execution_count": 2,
   "id": "12e1910a",
   "metadata": {
    "slideshow": {
     "slide_type": "subslide"
    }
   },
   "outputs": [
    {
     "name": "stdout",
     "output_type": "stream",
     "text": [
      "# Dígitos : 10\n",
      "# Amostras: 1797\n",
      "# Features: 64\n"
     ]
    }
   ],
   "source": [
    "# Inicializa e mostra o conjunto de dados\n",
    "data, labels = load_digits(return_X_y=True)\n",
    "\n",
    "(n_samples, n_features), n_digits = data.shape, np.unique(labels).size\n",
    "\n",
    "print(f\"# Dígitos : {n_digits}\")\n",
    "print(f\"# Amostras: {n_samples}\")\n",
    "print(f\"# Features: {n_features}\")"
   ]
  },
  {
   "cell_type": "code",
   "execution_count": 3,
   "id": "e7ce127d",
   "metadata": {
    "slideshow": {
     "slide_type": "subslide"
    }
   },
   "outputs": [],
   "source": [
    "def bench_k_means(kmeans, name, data, labels):\n",
    "    \"\"\" Realiza comparação entre diferentes métodos de\n",
    "        inicialização do KMeans.\n",
    "\n",
    "    Parâmetros\n",
    "    ----------\n",
    "    kmeans : KMeans instance\n",
    "        Uma instância :class:`~sklearn.cluster.KMeans` com a inicialização\n",
    "        já definida.\n",
    "    name : str\n",
    "        Nome dado à estratégia. Será usado para mostrar os resultados na tabela.\n",
    "    data : ndarray of shape (n_samples, n_features)\n",
    "        Dados para agrupar.\n",
    "    labels : ndarray of shape (n_samples,)\n",
    "        Os rótulos usados para computar as métricas de agrupamento que\n",
    "        requerem alguma supervisão.\n",
    "    \"\"\"\n",
    "    t0 = time()\n",
    "    estimator = make_pipeline(StandardScaler(), kmeans).fit(data)\n",
    "    fit_time = time() - t0\n",
    "    results = [name, fit_time, estimator[-1].inertia_]\n",
    "\n",
    "    # Define as métricas que requerem apenas rótulos verdadeiros e do estimador\n",
    "    clustering_metrics = [\n",
    "        metrics.homogeneity_score,\n",
    "        metrics.completeness_score,\n",
    "        metrics.v_measure_score,\n",
    "        metrics.adjusted_rand_score,\n",
    "        metrics.adjusted_mutual_info_score,\n",
    "    ]\n",
    "    results += [m(labels, estimator[-1].labels_) for m in clustering_metrics]\n",
    "\n",
    "    # O silhouette score precisa de todo o conjunto de dados\n",
    "    results += [\n",
    "        metrics.silhouette_score(\n",
    "            data,\n",
    "            estimator[-1].labels_,\n",
    "            metric=\"euclidean\",\n",
    "            sample_size=300,\n",
    "        )\n",
    "    ]\n",
    "\n",
    "    # Mostra os resultados\n",
    "    formatter_result = (\n",
    "        \"{:9s}\\t{:.3f}s\\t{:.0f}\\t{:.3f}\\t{:.3f}\\t{:.3f}\\t{:.3f}\\t{:.3f}\\t{:.3f}\"\n",
    "    )\n",
    "    print(formatter_result.format(*results))"
   ]
  },
  {
   "cell_type": "code",
   "execution_count": 4,
   "id": "6d07bbd7",
   "metadata": {
    "slideshow": {
     "slide_type": "subslide"
    }
   },
   "outputs": [
    {
     "name": "stdout",
     "output_type": "stream",
     "text": [
      "__________________________________________________________________________________\n",
      "init\t\ttime\tinertia\thomo\tcompl\tv-meas\tARI\tAMI\tsilhouette\n",
      "k-means++\t0.041s\t69545\t0.598\t0.645\t0.621\t0.469\t0.617\t0.155\n",
      "random   \t0.019s\t69735\t0.681\t0.723\t0.701\t0.574\t0.698\t0.148\n",
      "PCA-based\t0.006s\t72686\t0.636\t0.658\t0.647\t0.521\t0.643\t0.156\n",
      "__________________________________________________________________________________\n"
     ]
    }
   ],
   "source": [
    "print(82 * \"_\")\n",
    "print(\"init\\t\\ttime\\tinertia\\thomo\\tcompl\\tv-meas\\tARI\\tAMI\\tsilhouette\")\n",
    "\n",
    "kmeans = KMeans(init=\"k-means++\", n_clusters=n_digits, n_init=4, random_state=0)\n",
    "bench_k_means(kmeans=kmeans, name=\"k-means++\", data=data, labels=labels)\n",
    "\n",
    "kmeans = KMeans(init=\"random\", n_clusters=n_digits, n_init=4, random_state=0)\n",
    "bench_k_means(kmeans=kmeans, name=\"random\", data=data, labels=labels)\n",
    "\n",
    "pca = PCA(n_components=n_digits).fit(data)\n",
    "kmeans = KMeans(init=pca.components_, n_clusters=n_digits, n_init=1)\n",
    "bench_k_means(kmeans=kmeans, name=\"PCA-based\", data=data, labels=labels)\n",
    "\n",
    "print(82 * \"_\")"
   ]
  },
  {
   "cell_type": "markdown",
   "id": "11e3422d",
   "metadata": {
    "slideshow": {
     "slide_type": "notes"
    }
   },
   "source": [
    "- ### Inércia\n",
    "    - Em termos simples, representa o quão compactos os clusters são. Valores menores de inércia são melhores, indicando clusters mais compactos.\n",
    "    \n",
    "- ### Homogeneidade\n",
    "    - Mede se todos os clusters contêm apenas pontos de dados que são membros de uma única classe. Uma pontuação de homogeneidade de 1.0 é a melhor.\n",
    "   \n",
    "- ### Completude\n",
    "    - Mede se todos os pontos de dados que são membros de uma determinada classe são elementos do mesmo cluster. Uma pontuação de completude de 1.0 é a melhor.\n",
    "\n",
    "- ### V-Measure\n",
    "    - É a média harmônica entre homogeneidade e completude. Essa métrica é útil, pois fornece um único número que representa tanto a homogeneidade quanto a completude. Valores mais altos indicam melhor desempenho.\n",
    "\n",
    "- ### Índice de Rand Ajustado (ARI - Adjusted Rand Index)\n",
    "    - Compara os agrupamentos obtidos com os rótulos verdadeiros, considerando todas as combinações de pares de amostras e contando quantas vezes são atribuídas ao mesmo ou a diferentes clusters em ambos os agrupamentos. O valor varia de -1 a 1, onde 1 significa uma correspondência perfeita entre os agrupamentos.\n",
    "\n",
    "- ### Índice de Mutual Information Ajustado (AMI - Adjusted Mutual Information)\n",
    "    - Mede a concordância entre os agrupamentos e os rótulos verdadeiros, considerando todas as combinações de pares de amostras e medindo a informação mútua. O valor varia de 0 a 1, onde 1 significa uma correspondência perfeita entre os agrupamentos.\n",
    "\n",
    "- ### Silhouette Score\n",
    "    - Avalia a coesão intra-cluster e a separação inter-cluster. Quanto mais próximo de 1, melhor é a estrutura dos clusters. Valores negativos indicam que os pontos podem ter sido atribuídos ao cluster errado."
   ]
  },
  {
   "cell_type": "code",
   "execution_count": 5,
   "id": "68b60390",
   "metadata": {
    "slideshow": {
     "slide_type": "subslide"
    }
   },
   "outputs": [],
   "source": [
    "# Reduz a dimensionalidade dos dados com PCA\n",
    "reduced_data = PCA(n_components=2).fit_transform(data)\n",
    "kmeans = KMeans(init=\"k-means++\", n_clusters=n_digits, n_init=4)\n",
    "kmeans.fit(reduced_data)\n",
    "\n",
    "# Define os valores para plotar o grid.\n",
    "# Define a granularidade da malha.\n",
    "h = 0.02\n",
    "\n",
    "# Define os limites da malha.\n",
    "x_min, x_max = reduced_data[:, 0].min() - 1, reduced_data[:, 0].max() + 1\n",
    "y_min, y_max = reduced_data[:, 1].min() - 1, reduced_data[:, 1].max() + 1\n",
    "xx, yy = np.meshgrid(np.arange(x_min, x_max, h), np.arange(y_min, y_max, h))\n",
    "\n",
    "# Seta rótulos para cada ponto na malha.\n",
    "Z = kmeans.predict(np.c_[xx.ravel(), yy.ravel()])"
   ]
  },
  {
   "cell_type": "code",
   "execution_count": 6,
   "id": "41ecfca6",
   "metadata": {
    "slideshow": {
     "slide_type": "subslide"
    }
   },
   "outputs": [
    {
     "data": {
      "image/png": "[encoded data removed]",
      "text/plain": [
       "<Figure size 640x480 with 1 Axes>"
      ]
     },
     "metadata": {},
     "output_type": "display_data"
    }
   ],
   "source": [
    "# Plota os diagramas de Voronoi\n",
    "Z = Z.reshape(xx.shape)\n",
    "plt.figure(1)\n",
    "plt.clf()\n",
    "plt.imshow(\n",
    "    Z,\n",
    "    interpolation=\"nearest\",\n",
    "    extent=(xx.min(), xx.max(), yy.min(), yy.max()),\n",
    "    cmap=plt.cm.Paired,\n",
    "    aspect=\"auto\",\n",
    "    origin=\"lower\",\n",
    ")\n",
    "\n",
    "plt.plot(reduced_data[:, 0], reduced_data[:, 1], \"k.\", markersize=2)\n",
    "# Plota os centróides com um X branco\n",
    "centroids = kmeans.cluster_centers_\n",
    "plt.scatter(\n",
    "    centroids[:, 0],\n",
    "    centroids[:, 1],\n",
    "    marker=\"x\",\n",
    "    s=169,\n",
    "    linewidths=3,\n",
    "    color=\"w\",\n",
    "    zorder=10,\n",
    ")\n",
    "plt.title(\n",
    "    \"Agrupamento K-means no conjunto de dados Dígitos Manuscritos\\n\"\n",
    "    \"(Dimensionalidade dos dados reduzida com PCA)\\n\"\n",
    "    \"Centróides estão marcados com o X\"\n",
    ")\n",
    "plt.xlim(x_min, x_max)\n",
    "plt.ylim(y_min, y_max)\n",
    "plt.xticks(())\n",
    "plt.yticks(())\n",
    "plt.show()"
   ]
  }
 ],
 "metadata": {
  "celltoolbar": "Slideshow",
  "kernelspec": {
   "display_name": "Python 3 (ipykernel)",
   "language": "python",
   "name": "python3"
  },
  "language_info": {
   "codemirror_mode": {
    "name": "ipython",
    "version": 3
   },
   "file_extension": ".py",
   "mimetype": "text/x-python",
   "name": "python",
   "nbconvert_exporter": "python",
   "pygments_lexer": "ipython3",
   "version": "3.11.5"
  }
 },
 "nbformat": 4,
 "nbformat_minor": 5
}
