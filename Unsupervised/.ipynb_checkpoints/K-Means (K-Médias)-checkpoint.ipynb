{
 "cells": [
  {
   "cell_type": "markdown",
   "id": "a3f1adef",
   "metadata": {
    "slideshow": {
     "slide_type": "slide"
    }
   },
   "source": [
    "# K-Means\n",
    "## K-Means é um popular algoritmo de agrupamento (clustering) não supervisionado usado em aprendizado de máquina e análise de dados. Seu objetivo é dividir um conjunto de dados em KK grupos (ou clusters) com base nas características dos dados, minimizando a variação dentro de cada grupo e maximizando a variação entre grupos diferentes."
   ]
  },
  {
   "cell_type": "markdown",
   "id": "1f21a13c",
   "metadata": {
    "slideshow": {
     "slide_type": "slide"
    }
   },
   "source": [
    "## Como funciona\n",
    "* Escolha Inicial de Centroides: O algoritmo começa escolhendo KK pontos aleatórios do dataset como centroides iniciais dos clusters.\n",
    "\n",
    "* Atribuição de Dados aos Clusters: Cada ponto de dados é atribuído ao cluster cujo centroide é o mais próximo, com base em alguma medida de distância (geralmente a distância euclidiana).\n",
    "\n",
    "* Atualização dos Centroides: Após todos os pontos serem atribuídos a um cluster, os centroides são recalculados como a média de todos os pontos no cluster.\n",
    "\n",
    "* Iteração: Os passos 2 e 3 são repetidos até que os centroides não mudem significativamente entre iterações, indicando que os clusters foram estabilizados."
   ]
  },
  {
   "cell_type": "markdown",
   "id": "efa13c10",
   "metadata": {
    "slideshow": {
     "slide_type": "slide"
    }
   },
   "source": [
    "### Vantagens\n",
    "* Simplicidade e Eficiência: K-Means é fácil de implementar e entender. É eficiente em termos de tempo de execução, especialmente em grandes conjuntos de dados.\n",
    "\n",
    "* Adaptação a Diferentes Tipos de Dados: Pode ser aplicado a uma ampla variedade de tipos de dados e é útil em muitos domínios diferentes.\n",
    "\n",
    "* Identificação de Clusters Naturalmente Formados: É eficaz na identificação de clusters naturais dentro dos dados."
   ]
  },
  {
   "cell_type": "markdown",
   "id": "044e0dbe",
   "metadata": {
    "slideshow": {
     "slide_type": "slide"
    }
   },
   "source": [
    "### Desvantagens\n",
    "* Escolha de KK: Determinar o número correto de clusters (KK) nem sempre é fácil e pode requerer várias execuções com diferentes valores de KK.\n",
    "\n",
    "* Sensibilidade a Inicializações: Os resultados podem variar com diferentes inicializações de centroides, o que pode levar a uma convergência para ótimos locais.\n",
    "\n",
    "* Sensível a Outliers: K-Means é sensível a outliers, pois eles podem distorcer a média de um cluster.\n",
    "\n",
    "* Limitação a Formas de Cluster: Assume que os clusters são esféricos e de tamanho similar, o que pode não ser adequado para alguns conjuntos de dados."
   ]
  },
  {
   "cell_type": "markdown",
   "id": "9176e293",
   "metadata": {
    "slideshow": {
     "slide_type": "slide"
    }
   },
   "source": [
    "### Aplicações\n",
    "#### Segmentação de Mercado:\n",
    "* Identificação de Grupos de Consumidores com Comportamentos Semelhantes.\n",
    "* Personalização de Estratégias de Marketing.\n",
    "\n",
    "#### Análise de Imagens:\n",
    "* Compressão de Imagens por Agrupamento de Pixels Semelhantes.\n",
    "* Segmentação de Regiões em Imagens Médicas.\n",
    "\n",
    "#### Agrupamento de Documentos:\n",
    "* Organização de Documentos em Categorias Temáticas.\n",
    "* Análise de Tópicos em Grandes Conjuntos de Textos.\n",
    "\n",
    "#### Sensoriamento Remoto:\n",
    "* Agrupamento de Dados de Satélites para Identificação de Padrões Geográficos.\n",
    "* Classificação de Terrenos e Coberturas Terrestres.\n",
    "\n",
    "#### Monitoramento de Rede:\n",
    "* Detecção de Anomalias em Tráfego de Rede.\n",
    "* Agrupamento de Dispositivos com Comportamentos Semelhantes."
   ]
  },
  {
   "cell_type": "markdown",
   "id": "99b2dfc0",
   "metadata": {
    "slideshow": {
     "slide_type": "slide"
    }
   },
   "source": [
    "#### Exemplo de código com K-Means"
   ]
  },
  {
   "cell_type": "code",
   "execution_count": 1,
   "id": "aa96e3ab",
   "metadata": {
    "slideshow": {
     "slide_type": "slide"
    }
   },
   "outputs": [],
   "source": [
    "from sklearn.datasets import make_moons\n",
    "from sklearn.cluster import KMeans\n",
    "from sklearn.metrics import confusion_matrix, classification_report\n",
    "from sklearn.preprocessing import StandardScaler\n",
    "import numpy as np"
   ]
  },
  {
   "cell_type": "code",
   "execution_count": 2,
   "id": "1c89c389",
   "metadata": {
    "slideshow": {
     "slide_type": "subslide"
    }
   },
   "outputs": [],
   "source": [
    "X, y_true = make_moons(n_samples=300, noise=0.05, random_state=42)"
   ]
  },
  {
   "cell_type": "code",
   "execution_count": 3,
   "id": "8f5e7da2",
   "metadata": {
    "slideshow": {
     "slide_type": "subslide"
    }
   },
   "outputs": [],
   "source": [
    "scaler = StandardScaler()\n",
    "X_scaled = scaler.fit_transform(X)"
   ]
  },
  {
   "cell_type": "code",
   "execution_count": 4,
   "id": "ed61d468",
   "metadata": {
    "slideshow": {
     "slide_type": "subslide"
    }
   },
   "outputs": [
    {
     "name": "stderr",
     "output_type": "stream",
     "text": [
      "/usr/lib/python3.11/site-packages/sklearn/cluster/_kmeans.py:1416: FutureWarning: The default value of `n_init` will change from 10 to 'auto' in 1.4. Set the value of `n_init` explicitly to suppress the warning\n",
      "  super()._check_params_vs_input(X, default_n_init=10)\n"
     ]
    }
   ],
   "source": [
    "kmeans = KMeans(n_clusters=2, random_state=42)\n",
    "kmeans.fit(X_scaled)\n",
    "y_kmeans = kmeans.labels_"
   ]
  },
  {
   "cell_type": "code",
   "execution_count": 5,
   "id": "29e2ab52",
   "metadata": {
    "slideshow": {
     "slide_type": "subslide"
    }
   },
   "outputs": [],
   "source": [
    "y_corrected = np.zeros_like(y_kmeans)\n",
    "for i in range(2):\n",
    "    mask = (y_kmeans == i)\n",
    "    y_corrected[mask] = np.argmax(np.bincount(y_true[mask]))"
   ]
  },
  {
   "cell_type": "code",
   "execution_count": 6,
   "id": "43a3425b",
   "metadata": {
    "slideshow": {
     "slide_type": "subslide"
    }
   },
   "outputs": [],
   "source": [
    "conf_matrix = confusion_matrix(y_true, y_corrected)\n",
    "report = classification_report(y_true, y_corrected)"
   ]
  },
  {
   "cell_type": "code",
   "execution_count": 7,
   "id": "b4f2bd4a",
   "metadata": {
    "slideshow": {
     "slide_type": "subslide"
    }
   },
   "outputs": [
    {
     "name": "stdout",
     "output_type": "stream",
     "text": [
      "[[127  23]\n",
      " [ 24 126]]\n"
     ]
    }
   ],
   "source": [
    "print(conf_matrix)"
   ]
  },
  {
   "cell_type": "code",
   "execution_count": 8,
   "id": "c130bb6a",
   "metadata": {
    "slideshow": {
     "slide_type": "subslide"
    }
   },
   "outputs": [
    {
     "name": "stdout",
     "output_type": "stream",
     "text": [
      "              precision    recall  f1-score   support\n",
      "\n",
      "           0       0.84      0.85      0.84       150\n",
      "           1       0.85      0.84      0.84       150\n",
      "\n",
      "    accuracy                           0.84       300\n",
      "   macro avg       0.84      0.84      0.84       300\n",
      "weighted avg       0.84      0.84      0.84       300\n",
      "\n"
     ]
    }
   ],
   "source": [
    "print(report)"
   ]
  },
  {
   "cell_type": "code",
   "execution_count": null,
   "id": "f334f5af",
   "metadata": {
    "slideshow": {
     "slide_type": "subslide"
    }
   },
   "outputs": [],
   "source": []
  },
  {
   "cell_type": "markdown",
   "id": "0d2238e4",
   "metadata": {},
   "source": []
  },
  {
   "cell_type": "code",
   "execution_count": null,
   "id": "f2edc2a3",
   "metadata": {},
   "outputs": [],
   "source": []
  }
 ],
 "metadata": {
  "celltoolbar": "Slideshow",
  "kernelspec": {
   "display_name": "Python 3 (ipykernel)",
   "language": "python",
   "name": "python3"
  },
  "language_info": {
   "codemirror_mode": {
    "name": "ipython",
    "version": 3
   },
   "file_extension": ".py",
   "mimetype": "text/x-python",
   "name": "python",
   "nbconvert_exporter": "python",
   "pygments_lexer": "ipython3",
   "version": "3.11.6"
  }
 },
 "nbformat": 4,
 "nbformat_minor": 5
}
